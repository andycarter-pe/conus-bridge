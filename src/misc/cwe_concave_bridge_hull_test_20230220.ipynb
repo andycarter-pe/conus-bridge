{
 "cells": [
  {
   "cell_type": "code",
   "execution_count": 1,
   "id": "21bdb122",
   "metadata": {},
   "outputs": [],
   "source": [
    "import pylas # to read in the point cloud\n",
    "import pdal\n",
    "import geopandas as gpd\n",
    "import json\n",
    "import numpy as np\n",
    "import os\n",
    "\n",
    "from shapely.geometry import Polygon, MultiPolygon\n",
    "\n",
    "from scipy.spatial import Delaunay\n",
    "import shapely.geometry as geometry\n",
    "from shapely.ops import cascaded_union, polygonize\n",
    "\n",
    "import warnings"
   ]
  },
  {
   "cell_type": "code",
   "execution_count": 2,
   "id": "f0fa00b5",
   "metadata": {},
   "outputs": [],
   "source": [
    "str_convex_hull_ar = r'D:\\concave_hull_test_20230220\\input_convex_hull\\convex_hull_dfw_3857_ar.shp'\n",
    "str_copc_point_cloud = r'D:\\concave_hull_test_20230220\\merge_bridge_copc\\bridge_merge_pecos_dallas.copc.laz'\n",
    "str_output_las_dir = r'D:\\concave_hull_test_20230220'"
   ]
  },
  {
   "cell_type": "code",
   "execution_count": 3,
   "id": "45ed9264",
   "metadata": {},
   "outputs": [],
   "source": [
    "def fn_get_concave_alpha_boundary(str_las_cluster_filepath, flt_alpha_value):\n",
    "    \n",
    "    # args:\n",
    "    #  str_las_cluster_filepath = las filepath of the idetified point cloud cluster\n",
    "    #           --- example: D:\\concave_hull_test_20230220\\bridge_3047.las\n",
    "    #  flt_alpha_value = alpha value to process\n",
    "    #          --- example: 0.001 ~ convex hull\n",
    "    #          --- example: 0.9 ~ highly concave hull\n",
    "    \n",
    "    import warnings\n",
    "    # turn off warnings\n",
    "    warnings.filterwarnings('ignore')\n",
    "    \n",
    "    # read the las file\n",
    "    las = pylas.read(str_las_cluster_filepath)\n",
    "    \n",
    "    # create numpy array from las x,y points\n",
    "    arr_las_points = np.stack((las.x, las.y), axis=1)\n",
    "    \n",
    "    coords = arr_las_points\n",
    "    #coords = np.array([point.coords[0] for point in points])\n",
    "\n",
    "    tri = Delaunay(arr_las_points)\n",
    "    triangles = arr_las_points[tri.vertices]\n",
    "    \n",
    "    a = ((triangles[:,0,0] - triangles[:,1,0]) ** 2 + (triangles[:,0,1] - triangles[:,1,1]) ** 2) ** 0.5\n",
    "    b = ((triangles[:,1,0] - triangles[:,2,0]) ** 2 + (triangles[:,1,1] - triangles[:,2,1]) ** 2) ** 0.5\n",
    "    c = ((triangles[:,2,0] - triangles[:,0,0]) ** 2 + (triangles[:,2,1] - triangles[:,0,1]) ** 2) ** 0.5\n",
    "    \n",
    "    s = ( a + b + c ) / 2.0\n",
    "    areas = (s*(s-a)*(s-b)*(s-c)) ** 0.5\n",
    "    circums = a * b * c / (4.0 * areas)\n",
    "    filtered = triangles[circums < (1.0 / flt_alpha_value)]\n",
    "    \n",
    "    edge1 = filtered[:,(0,1)]\n",
    "    edge2 = filtered[:,(1,2)]\n",
    "    edge3 = filtered[:,(2,0)]\n",
    "    \n",
    "    edge_points = np.unique(np.concatenate((edge1,edge2,edge3)), axis = 0).tolist()\n",
    "    m = geometry.MultiLineString(edge_points)\n",
    "    triangles = list(polygonize(m))\n",
    "    \n",
    "    return cascaded_union(triangles)"
   ]
  },
  {
   "cell_type": "code",
   "execution_count": 4,
   "id": "c3f24de9",
   "metadata": {},
   "outputs": [],
   "source": [
    "def fn_remove_holes_from_polygon(shp_polygon,\n",
    "                                 flt_min_interior_hole_size_tokeep):\n",
    "    \n",
    "    from shapely.geometry import Polygon\n",
    "    \n",
    "    list_interiors = []\n",
    "\n",
    "    for interior in shp_polygon.interiors:\n",
    "        p = Polygon(interior)    \n",
    "        if p.area > flt_min_interior_hole_size_tokeep:\n",
    "            list_interiors.append(interior)\n",
    "\n",
    "    new_polygon = Polygon(shp_polygon.exterior.coords, holes=list_interiors)\n",
    "    \n",
    "    return new_polygon"
   ]
  },
  {
   "cell_type": "code",
   "execution_count": 5,
   "id": "1a4170ea",
   "metadata": {},
   "outputs": [],
   "source": [
    "def fn_remove_holes_from_multipolygon(shp_multipolygon,\n",
    "                                      flt_min_interior_hole_size_tokeep):\n",
    "    \n",
    "    from shapely.geometry import Polygon, MultiPolygon\n",
    "    \n",
    "    list_parts = []\n",
    "    \n",
    "    for polygon in shp_multipolygon.geoms:\n",
    "        list_interiors = []\n",
    "        \n",
    "        for interior in polygon.interiors:\n",
    "            p = Polygon(interior)\n",
    "\n",
    "            if p.area > flt_min_interior_hole_size_tokeep:\n",
    "                list_interiors.append(interior)\n",
    "                \n",
    "        temp_pol = Polygon(polygon.exterior.coords, holes=list_interiors)\n",
    "        list_parts.append(temp_pol)\n",
    "        \n",
    "    new_multipolygon = MultiPolygon(list_parts)\n",
    "    \n",
    "    return(new_multipolygon)"
   ]
  },
  {
   "cell_type": "code",
   "execution_count": 6,
   "id": "9c5f7f00",
   "metadata": {},
   "outputs": [],
   "source": [
    "def fn_get_largest_polygon(shp_hull_polygon):\n",
    "    \n",
    "    flt_max_hole_to_keep = 100\n",
    "    flt_min_island_to_keep = 100\n",
    "    \n",
    "    # determine the type of shp_hull_polygon\n",
    "    if shp_hull_polygon.geom_type == 'MultiPolygon':\n",
    "        \n",
    "        # remove the hole from the multipolygon\n",
    "        shp_multi_no_holes = fn_remove_holes_from_multipolygon(shp_hull_polygon,flt_max_hole_to_keep)\n",
    "        \n",
    "        # remove small islands from multipolygon\n",
    "        shp_island_remove = MultiPolygon([P for P in shp_multi_no_holes if P.area > flt_min_island_to_keep])\n",
    "        \n",
    "        shp_largest_polygon = max(shp_hull_polygon, key=lambda a: a.area)\n",
    "        \n",
    "    elif shp_polygon_01.geom_type == 'Polygon':\n",
    "        shp_largest_polygon = shp_hull_polygon\n",
    "        \n",
    "    return shp_largest_polygon"
   ]
  },
  {
   "cell_type": "code",
   "execution_count": 211,
   "id": "a5111750",
   "metadata": {},
   "outputs": [
    {
     "name": "stdout",
     "output_type": "stream",
     "text": [
      "Points found: 24287\n",
      "Points in concav hull polygon: 24254\n",
      "Percent points in polygon: 0.9986412484044962\n",
      "CPU times: total: 1min 12s\n",
      "Wall time: 42.6 s\n"
     ]
    }
   ],
   "source": [
    "%%time\n",
    "\n",
    "#def fn_determine_concave_hull(gdf_single_convex_hull, \n",
    "#                              str_copc_point_cloud,\n",
    "#                              str_output_las_dir)\n",
    "                              \n",
    "\n",
    "int_bridge_index = 2588\n",
    "\n",
    "# read the \"area of interest\" shapefile in to geopandas dataframe\n",
    "gdf_convex_hulls = gpd.read_file(str_convex_hull_ar)\n",
    "\n",
    "# get all the points inside the id = 2004 polygon\n",
    "gdf_single_convex = gdf_convex_hulls.loc[gdf_convex_hulls['id'] == int_bridge_index]\n",
    "\n",
    "# convex hull as wkt\n",
    "str_boundary_wkt = gdf_single_convex.iloc[0].geometry.wkt\n",
    "\n",
    "# point cloud per convex hull as las\n",
    "str_output_las = os.path.join(str_output_las_dir, \"bridge_\" + str(int_bridge_index) + '.las')\n",
    "\n",
    "pipeline_create_copc = {\n",
    "    \"pipeline\": [\n",
    "        {   \n",
    "            \"filename\":str_copc_point_cloud,\n",
    "            \"type\":\"readers.copc\",\n",
    "            \"tag\":\"readdata\"\n",
    "        },\n",
    "        {\n",
    "            \"type\":\"filters.crop\",\n",
    "            \"polygon\":str_boundary_wkt,\n",
    "            \"tag\":\"filter\"\n",
    "        },\n",
    "        {\n",
    "            \"filename\": str_output_las,\n",
    "            \"inputs\": [ \"filter\" ],\n",
    "            \"type\": \"writers.las\"\n",
    "        }\n",
    "    ]}\n",
    "\n",
    "if os.path.exists(str_output_las):\n",
    "    print('All ready exists')\n",
    "else:\n",
    "    #execute the pdal pipeline\n",
    "    pipeline = pdal.Pipeline(json.dumps(pipeline_create_copc))\n",
    "    n_points = pipeline.execute()\n",
    "\n",
    "# read the las file\n",
    "las = pylas.read(str_output_las)\n",
    "print('Points found: ' + str(len(las.x)))\n",
    "\n",
    "flt_desired_target = 0.25\n",
    "\n",
    "# default to concave hull\n",
    "shp_poly_to_process = fn_get_concave_alpha_boundary(str_output_las, 0.0001)\n",
    "\n",
    "# compute the first alpha shape\n",
    "shp_polygon_01 = fn_get_concave_alpha_boundary(str_output_las, 0.1)\n",
    "\n",
    "if (shp_polygon_01.area / len(las.x)) > flt_desired_target:\n",
    "    shp_poly_to_process = shp_polygon_01\n",
    "    shp_polygon_02 = fn_get_concave_alpha_boundary(str_output_las, 0.2)\n",
    "    \n",
    "    if (shp_polygon_02.area / len(las.x)) > flt_desired_target:\n",
    "        shp_poly_to_process = shp_polygon_02\n",
    "        shp_polygon_03 = fn_get_concave_alpha_boundary(str_output_las, 0.3)\n",
    "    \n",
    "        if (shp_polygon_03.area / len(las.x)) > flt_desired_target:\n",
    "            shp_poly_to_process = shp_polygon_03\n",
    "\n",
    "# find the largest polygon\n",
    "shp_largest = fn_get_largest_polygon(shp_poly_to_process)\n",
    "\n",
    "# remove the islands from the largest polygon\n",
    "shp_largest_no_holes = fn_remove_holes_from_polygon(shp_largest, 100)\n",
    "\n",
    "# simplify the polygon (0.9 meter resolution)\n",
    "shp_largest_no_holes_simple = shp_largest_no_holes.simplify(0.9, preserve_topology=False)\n",
    "\n",
    "# determine fraction of points that are inside the polygon\n",
    "pipeline_points_in_poly = {\n",
    "    \"pipeline\": [\n",
    "        {   \n",
    "            \"filename\":str_output_las,\n",
    "            \"type\":\"readers.las\",\n",
    "            \"tag\":\"readdata\"\n",
    "        },\n",
    "        {\n",
    "            \"type\":\"filters.crop\",\n",
    "            \"polygon\":shp_largest_no_holes.wkt,\n",
    "            \"tag\":\"filter\"\n",
    "        }\n",
    "    ]}\n",
    "\n",
    "#execute the pdal pipeline\n",
    "pipeline = pdal.Pipeline(json.dumps(pipeline_points_in_poly))\n",
    "n_points = pipeline.execute()\n",
    "print('Points in concav hull polygon: ' + str(n_points))\n",
    "\n",
    "flt_fraction_point_in_poly = n_points/len(las.x)\n",
    "print('Percent points in polygon: ' + str(flt_fraction_point_in_poly))\n",
    "\n",
    "# return gdf_concave_hull_poly"
   ]
  },
  {
   "cell_type": "code",
   "execution_count": 212,
   "id": "97a1c25b",
   "metadata": {
    "scrolled": true
   },
   "outputs": [
    {
     "data": {
      "image/svg+xml": [
       "<svg xmlns=\"http://www.w3.org/2000/svg\" xmlns:xlink=\"http://www.w3.org/1999/xlink\" width=\"295.02359999902546\" height=\"100.0\" viewBox=\"-10807871.0268 3861644.2232 295.02359999902546 56.643600000068545\" preserveAspectRatio=\"xMinYMin meet\"><g transform=\"matrix(1,0,0,-1,0,7723345.09)\"><path fill-rule=\"evenodd\" fill=\"#66cc99\" stroke=\"#555555\" stroke-width=\"2.0\" opacity=\"0.6\" d=\"M -10807852.31,3861665.4 L -10807823.42,3861686.56 L -10807815.51,3861689.94 L -10807593.46,3861685.3000000003 L -10807590.88,3861686.34 L -10807586.93,3861684.52 L -10807587.26,3861656.0100000002 L -10807591.35,3861655.15 L -10807860.1,3861659.75 L -10807852.31,3861665.4 z\" /></g></svg>"
      ],
      "text/plain": [
       "<shapely.geometry.polygon.Polygon at 0x2041d43f130>"
      ]
     },
     "execution_count": 212,
     "metadata": {},
     "output_type": "execute_result"
    }
   ],
   "source": [
    "shp_largest_no_holes_simple"
   ]
  },
  {
   "cell_type": "code",
   "execution_count": 213,
   "id": "8f55c2ae",
   "metadata": {},
   "outputs": [
    {
     "data": {
      "text/plain": [
       "'POLYGON ((-10807852.31 3861665.4, -10807823.42 3861686.56, -10807815.51 3861689.94, -10807593.46 3861685.3000000003, -10807590.88 3861686.34, -10807586.93 3861684.52, -10807587.26 3861656.0100000002, -10807591.35 3861655.15, -10807860.1 3861659.75, -10807852.31 3861665.4))'"
      ]
     },
     "execution_count": 213,
     "metadata": {},
     "output_type": "execute_result"
    }
   ],
   "source": [
    "shp_largest_no_holes_simple.wkt"
   ]
  },
  {
   "cell_type": "code",
   "execution_count": 214,
   "id": "4f06ce2a",
   "metadata": {},
   "outputs": [],
   "source": [
    "def fn_polygons_in_shape(shp_poly_to_process):\n",
    "    # determine the type of shp_hull_polygon\n",
    "    if shp_poly_to_process.geom_type == 'MultiPolygon':\n",
    "        int_count_polygons = len(list(shp_poly_to_process))\n",
    "    else:\n",
    "        int_count_polygons = 1\n",
    "    return int_count_polygons"
   ]
  },
  {
   "cell_type": "code",
   "execution_count": 215,
   "id": "0e7c129b",
   "metadata": {},
   "outputs": [
    {
     "name": "stdout",
     "output_type": "stream",
     "text": [
      "0.15000000000000002\n"
     ]
    }
   ],
   "source": [
    "# default to concave hull\n",
    "shp_poly_to_process = fn_get_concave_alpha_boundary(str_output_las, 0.0001)\n",
    "\n",
    "# start with a value of 0.10\n",
    "flt_delta_increase = 0.07\n",
    "\n",
    "flt_try_value = 0.08\n",
    "shp_boundary_to_check = fn_get_concave_alpha_boundary(str_output_las, flt_try_value)\n",
    "\n",
    "flt_polygons_created = fn_polygons_in_shape(shp_boundary_to_check)\n",
    "\n",
    "if flt_polygons_created > 1:\n",
    "    while flt_polygons_created > 1:\n",
    "        flt_try_value = flt_try_value / 2\n",
    "        shp_boundary_to_check = fn_get_concave_alpha_boundary(str_output_las, flt_try_value)\n",
    "        flt_polygons_created = fn_polygons_in_shape(shp_boundary_to_check)\n",
    "        print(flt_try_value)\n",
    "else:\n",
    "    # the first pass yielded a single polygon\n",
    "    # increase by value until it breaks\n",
    "    #while flt_polygons_created == 1:\n",
    "    \n",
    "    while flt_try_value <= 0.75:\n",
    "        flt_try_value += flt_delta_increase\n",
    "        shp_boundary_to_check = fn_get_concave_alpha_boundary(str_output_las, flt_try_value)\n",
    "        flt_polygons_created = fn_polygons_in_shape(shp_boundary_to_check)\n",
    "        print(flt_try_value)\n",
    "        \n",
    "        if flt_polygons_created > 0:\n",
    "            break\n",
    "        \n",
    "    flt_try_value -= flt_delta_increase\n",
    "    shp_boundary_to_check = fn_get_concave_alpha_boundary(str_output_las, flt_try_value)\n",
    "    \n",
    "# simplify the polygon (0.9 meter resolution)\n",
    "shp_simple = shp_boundary_to_check.simplify(0.9, preserve_topology=False)"
   ]
  },
  {
   "cell_type": "code",
   "execution_count": 216,
   "id": "98e364b4",
   "metadata": {},
   "outputs": [
    {
     "data": {
      "image/svg+xml": [
       "<svg xmlns=\"http://www.w3.org/2000/svg\" xmlns:xlink=\"http://www.w3.org/1999/xlink\" width=\"295.02359999902546\" height=\"100.0\" viewBox=\"-10807871.0268 3861644.2232 295.02359999902546 56.643600000068545\" preserveAspectRatio=\"xMinYMin meet\"><g transform=\"matrix(1,0,0,-1,0,7723345.09)\"><path fill-rule=\"evenodd\" fill=\"#66cc99\" stroke=\"#555555\" stroke-width=\"2.0\" opacity=\"0.6\" d=\"M -10807852.31,3861665.4 L -10807823.42,3861686.56 L -10807815.51,3861689.94 L -10807590.88,3861686.34 L -10807586.93,3861684.52 L -10807587.26,3861656.0100000002 L -10807591.35,3861655.15 L -10807860.1,3861659.75 L -10807852.31,3861665.4 z\" /></g></svg>"
      ],
      "text/plain": [
       "<shapely.geometry.polygon.Polygon at 0x2033a620f40>"
      ]
     },
     "execution_count": 216,
     "metadata": {},
     "output_type": "execute_result"
    }
   ],
   "source": [
    "shp_simple"
   ]
  },
  {
   "cell_type": "code",
   "execution_count": 217,
   "id": "d49297a9",
   "metadata": {},
   "outputs": [
    {
     "data": {
      "text/plain": [
       "'POLYGON ((-10807852.31 3861665.4, -10807823.42 3861686.56, -10807815.51 3861689.94, -10807590.88 3861686.34, -10807586.93 3861684.52, -10807587.26 3861656.0100000002, -10807591.35 3861655.15, -10807860.1 3861659.75, -10807852.31 3861665.4))'"
      ]
     },
     "execution_count": 217,
     "metadata": {},
     "output_type": "execute_result"
    }
   ],
   "source": [
    "shp_simple.wkt"
   ]
  },
  {
   "cell_type": "code",
   "execution_count": null,
   "id": "e30397cf",
   "metadata": {},
   "outputs": [],
   "source": []
  }
 ],
 "metadata": {
  "kernelspec": {
   "display_name": "Python 3 (ipykernel)",
   "language": "python",
   "name": "python3"
  },
  "language_info": {
   "codemirror_mode": {
    "name": "ipython",
    "version": 3
   },
   "file_extension": ".py",
   "mimetype": "text/x-python",
   "name": "python",
   "nbconvert_exporter": "python",
   "pygments_lexer": "ipython3",
   "version": "3.8.12"
  }
 },
 "nbformat": 4,
 "nbformat_minor": 5
}

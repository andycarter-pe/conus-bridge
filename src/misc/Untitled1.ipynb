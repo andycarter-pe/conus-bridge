{
 "cells": [
  {
   "cell_type": "code",
   "execution_count": 11,
   "id": "95f98e4c",
   "metadata": {},
   "outputs": [],
   "source": [
    "import numpy as np\n",
    "from ConcaveHull import ConcaveHull\n",
    "\n",
    "ch = ConcaveHull()\n",
    "pts = np.random.uniform(size=(40, 2))\n",
    "ch.loadpoints(pts)\n",
    "ch.calculatehull()\n",
    "\n",
    "boundary_points = np.vstack(ch.boundary.exterior.coords.xy).T\n",
    "# boundary_points is a subset of pts corresponding to the concave hull"
   ]
  },
  {
   "cell_type": "code",
   "execution_count": 15,
   "id": "2b0f7109",
   "metadata": {},
   "outputs": [
    {
     "data": {
      "text/plain": [
       "numpy.ndarray"
      ]
     },
     "execution_count": 15,
     "metadata": {},
     "output_type": "execute_result"
    }
   ],
   "source": [
    "type(boundary_points)"
   ]
  },
  {
   "cell_type": "code",
   "execution_count": 13,
   "id": "ae334d91",
   "metadata": {},
   "outputs": [
    {
     "data": {
      "image/svg+xml": [
       "<svg xmlns=\"http://www.w3.org/2000/svg\" xmlns:xlink=\"http://www.w3.org/1999/xlink\" width=\"100.0\" height=\"100.0\" viewBox=\"0.03470976131984498 -0.03603870030738238 0.9878949920257846 1.0377106337426947\" preserveAspectRatio=\"xMinYMin meet\"><g transform=\"matrix(1,0,0,-1,0,0.9656332331279299)\"><path fill-rule=\"evenodd\" fill=\"#66cc99\" stroke=\"#555555\" stroke-width=\"0.020754212674853893\" opacity=\"0.6\" d=\"M 0.07314348849550034,0.6444796100903049 L 0.1348904955950755,0.1853900239564651 L 0.34226009936598634,0.002395026868272976 L 0.6990388823514941,0.05429861756380383 L 0.9841710261699741,0.13728778237726735 L 0.9001344105331963,0.821530697712167 L 0.8896315284822872,0.8732023774159511 L 0.8611422440647631,0.9518426152981129 L 0.41048252527142626,0.963238206259657 L 0.10733796639631554,0.8267353590393756 L 0.0899126078717597,0.8126295590716903 L 0.07314348849550034,0.6444796100903049 z\" /></g></svg>"
      ],
      "text/plain": [
       "<shapely.geometry.polygon.Polygon at 0x18065d08310>"
      ]
     },
     "execution_count": 13,
     "metadata": {},
     "output_type": "execute_result"
    }
   ],
   "source": [
    "ch.boundary"
   ]
  },
  {
   "cell_type": "code",
   "execution_count": 14,
   "id": "44d65ba8",
   "metadata": {},
   "outputs": [
    {
     "data": {
      "text/plain": [
       "array([[0.90430349, 0.12242621],\n",
       "       [0.85252158, 0.7040471 ],\n",
       "       [0.68836103, 0.7714731 ],\n",
       "       [0.21562188, 0.62278628],\n",
       "       [0.59215089, 0.47231707],\n",
       "       [0.80761694, 0.66099714],\n",
       "       [0.90013441, 0.8215307 ],\n",
       "       [0.62038686, 0.26050191],\n",
       "       [0.88963153, 0.87320238],\n",
       "       [0.23864351, 0.4543193 ],\n",
       "       [0.48131559, 0.68221604],\n",
       "       [0.22132622, 0.52467677],\n",
       "       [0.45890481, 0.15088534],\n",
       "       [0.41048253, 0.96323821],\n",
       "       [0.37338575, 0.29305826],\n",
       "       [0.69903888, 0.05429862],\n",
       "       [0.07314349, 0.64447961],\n",
       "       [0.61295943, 0.44959031],\n",
       "       [0.1348905 , 0.18539002],\n",
       "       [0.51517541, 0.39874487],\n",
       "       [0.12468541, 0.54979498],\n",
       "       [0.3422601 , 0.00239503],\n",
       "       [0.86114224, 0.95184262],\n",
       "       [0.6175027 , 0.22505598],\n",
       "       [0.55889184, 0.65162229],\n",
       "       [0.77008123, 0.50938741],\n",
       "       [0.56833701, 0.04519166],\n",
       "       [0.25468146, 0.7620164 ],\n",
       "       [0.08991261, 0.81262956],\n",
       "       [0.26542103, 0.84174157],\n",
       "       [0.16552737, 0.31971876],\n",
       "       [0.70568115, 0.80718767],\n",
       "       [0.82033377, 0.14147136],\n",
       "       [0.14531431, 0.60307792],\n",
       "       [0.10733797, 0.82673536],\n",
       "       [0.80483181, 0.63420844],\n",
       "       [0.98417103, 0.13728778],\n",
       "       [0.10867822, 0.64762545],\n",
       "       [0.49909363, 0.83906543],\n",
       "       [0.14142058, 0.28939603]])"
      ]
     },
     "execution_count": 14,
     "metadata": {},
     "output_type": "execute_result"
    }
   ],
   "source": [
    "pts"
   ]
  },
  {
   "cell_type": "code",
   "execution_count": 47,
   "id": "dfea4a20",
   "metadata": {},
   "outputs": [],
   "source": [
    "import pylas # to read in the point cloud\n",
    "import pdal\n",
    "import geopandas as gpd\n",
    "import json"
   ]
  },
  {
   "cell_type": "code",
   "execution_count": 48,
   "id": "56dd6419",
   "metadata": {},
   "outputs": [],
   "source": [
    "str_convex_hull_ar = r'D:\\concave_hull_test_20230220\\convex_hull_dfw_3857_ar.shp'\n",
    "str_copc_point_cloud = r'D:\\globus_transfer\\bridge_merge_pecos_dallas\\bridge_merge_pecos_dallas.copc.laz'\n",
    "\n",
    "# read the \"area of interest\" shapefile in to geopandas dataframe\n",
    "gdf_convex_hulls = gpd.read_file(str_convex_hull_ar)"
   ]
  },
  {
   "cell_type": "code",
   "execution_count": 49,
   "id": "9030163a",
   "metadata": {},
   "outputs": [],
   "source": [
    "# get all the points inside the id = 2004 polygon\n",
    "gdf_single_convex = gdf_convex_hulls.loc[gdf_convex_hulls['id'] == 2004]"
   ]
  },
  {
   "cell_type": "code",
   "execution_count": 51,
   "id": "b742fdd5",
   "metadata": {},
   "outputs": [],
   "source": [
    "# get all the points inside the polygon\n",
    "\n",
    "str_boundary_wkt = gdf_single_convex.iloc[0].geometry.wkt\n",
    "str_output_las = r'D:\\concave_hull_test_20230220\\bridge_2004.las'"
   ]
  },
  {
   "cell_type": "code",
   "execution_count": 57,
   "id": "78bbbc52",
   "metadata": {},
   "outputs": [],
   "source": [
    "pipeline_create_copc = {\n",
    "    \"pipeline\": [\n",
    "        {   \n",
    "            \"filename\":str_copc_point_cloud,\n",
    "            \"type\":\"readers.copc\",\n",
    "            \"tag\":\"readdata\"\n",
    "        },\n",
    "        {\n",
    "            \"type\":\"filters.crop\",\n",
    "            \"polygon\":str_boundary_wkt,\n",
    "            \"tag\":\"filter\"\n",
    "        },\n",
    "        {\n",
    "            \"filename\": str_output_las,\n",
    "            \"inputs\": [ \"filter\" ],\n",
    "            \"type\": \"writers.las\"\n",
    "        }\n",
    "    ]}"
   ]
  },
  {
   "cell_type": "code",
   "execution_count": 58,
   "id": "c5470094",
   "metadata": {},
   "outputs": [
    {
     "ename": "RuntimeError",
     "evalue": "Couldn't create reader stage of type 'readers.copc'.\nYou probably have a version of PDAL that didn't come with a plugin\nyou're trying to load.  Please see the FAQ at https://pdal.io/faq",
     "output_type": "error",
     "traceback": [
      "\u001b[1;31m---------------------------------------------------------------------------\u001b[0m",
      "\u001b[1;31mRuntimeError\u001b[0m                              Traceback (most recent call last)",
      "\u001b[1;32m~\\AppData\\Local\\Temp\\ipykernel_16884\\1001770718.py\u001b[0m in \u001b[0;36m<module>\u001b[1;34m\u001b[0m\n\u001b[0;32m      1\u001b[0m \u001b[1;31m#execute the pdal pipeline\u001b[0m\u001b[1;33m\u001b[0m\u001b[1;33m\u001b[0m\u001b[1;33m\u001b[0m\u001b[0m\n\u001b[0;32m      2\u001b[0m \u001b[0mpipeline\u001b[0m \u001b[1;33m=\u001b[0m \u001b[0mpdal\u001b[0m\u001b[1;33m.\u001b[0m\u001b[0mPipeline\u001b[0m\u001b[1;33m(\u001b[0m\u001b[0mjson\u001b[0m\u001b[1;33m.\u001b[0m\u001b[0mdumps\u001b[0m\u001b[1;33m(\u001b[0m\u001b[0mpipeline_create_copc\u001b[0m\u001b[1;33m)\u001b[0m\u001b[1;33m)\u001b[0m\u001b[1;33m\u001b[0m\u001b[1;33m\u001b[0m\u001b[0m\n\u001b[1;32m----> 3\u001b[1;33m \u001b[0mn_points\u001b[0m \u001b[1;33m=\u001b[0m \u001b[0mpipeline\u001b[0m\u001b[1;33m.\u001b[0m\u001b[0mexecute\u001b[0m\u001b[1;33m(\u001b[0m\u001b[1;33m)\u001b[0m\u001b[1;33m\u001b[0m\u001b[1;33m\u001b[0m\u001b[0m\n\u001b[0m",
      "\u001b[1;32m~\\anaconda3\\envs\\pdal\\lib\\site-packages\\pdal\\pipeline.py\u001b[0m in \u001b[0;36mexecute\u001b[1;34m(self)\u001b[0m\n\u001b[0;32m     38\u001b[0m \u001b[1;33m\u001b[0m\u001b[0m\n\u001b[0;32m     39\u001b[0m     \u001b[1;32mdef\u001b[0m \u001b[0mexecute\u001b[0m\u001b[1;33m(\u001b[0m\u001b[0mself\u001b[0m\u001b[1;33m)\u001b[0m\u001b[1;33m:\u001b[0m\u001b[1;33m\u001b[0m\u001b[1;33m\u001b[0m\u001b[0m\n\u001b[1;32m---> 40\u001b[1;33m         \u001b[1;32mreturn\u001b[0m \u001b[0mself\u001b[0m\u001b[1;33m.\u001b[0m\u001b[0mp\u001b[0m\u001b[1;33m.\u001b[0m\u001b[0mexecute\u001b[0m\u001b[1;33m(\u001b[0m\u001b[1;33m)\u001b[0m\u001b[1;33m\u001b[0m\u001b[1;33m\u001b[0m\u001b[0m\n\u001b[0m\u001b[0;32m     41\u001b[0m \u001b[1;33m\u001b[0m\u001b[0m\n\u001b[0;32m     42\u001b[0m     \u001b[1;32mdef\u001b[0m \u001b[0mvalidate\u001b[0m\u001b[1;33m(\u001b[0m\u001b[0mself\u001b[0m\u001b[1;33m)\u001b[0m\u001b[1;33m:\u001b[0m\u001b[1;33m\u001b[0m\u001b[1;33m\u001b[0m\u001b[0m\n",
      "\u001b[1;32mlibpdalpython.pyx\u001b[0m in \u001b[0;36mpdal.libpdalpython.PyPipeline.execute\u001b[1;34m()\u001b[0m\n",
      "\u001b[1;31mRuntimeError\u001b[0m: Couldn't create reader stage of type 'readers.copc'.\nYou probably have a version of PDAL that didn't come with a plugin\nyou're trying to load.  Please see the FAQ at https://pdal.io/faq"
     ]
    }
   ],
   "source": [
    "#execute the pdal pipeline\n",
    "pipeline = pdal.Pipeline(json.dumps(pipeline_create_copc))\n",
    "n_points = pipeline.execute()"
   ]
  }
 ],
 "metadata": {
  "kernelspec": {
   "display_name": "Python 3 (ipykernel)",
   "language": "python",
   "name": "python3"
  },
  "language_info": {
   "codemirror_mode": {
    "name": "ipython",
    "version": 3
   },
   "file_extension": ".py",
   "mimetype": "text/x-python",
   "name": "python",
   "nbconvert_exporter": "python",
   "pygments_lexer": "ipython3",
   "version": "3.8.12"
  }
 },
 "nbformat": 4,
 "nbformat_minor": 5
}

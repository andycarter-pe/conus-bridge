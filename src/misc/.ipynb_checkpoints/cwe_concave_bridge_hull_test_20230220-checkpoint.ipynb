{
 "cells": [
  {
   "cell_type": "code",
   "execution_count": 1,
   "id": "21bdb122",
   "metadata": {},
   "outputs": [],
   "source": [
    "import pylas # to read in the point cloud\n",
    "import pdal\n",
    "import geopandas as gpd\n",
    "import json\n",
    "import numpy as np\n",
    "import os\n",
    "\n",
    "from shapely.geometry import Polygon, MultiPolygon\n",
    "\n",
    "from scipy.spatial import Delaunay\n",
    "import shapely.geometry as geometry\n",
    "from shapely.ops import cascaded_union, polygonize\n",
    "\n",
    "import warnings"
   ]
  },
  {
   "cell_type": "code",
   "execution_count": 2,
   "id": "f0fa00b5",
   "metadata": {},
   "outputs": [],
   "source": [
    "str_convex_hull_ar = r'D:\\concave_hull_test_20230220\\input_convex_hull\\convex_hull_dfw_3857_ar.shp'\n",
    "str_copc_point_cloud = r'D:\\concave_hull_test_20230220\\merge_bridge_copc\\bridge_merge_pecos_dallas.copc.laz'\n",
    "str_output_las_dir = r'D:\\concave_hull_test_20230220'"
   ]
  },
  {
   "cell_type": "code",
   "execution_count": 3,
   "id": "f89abedf",
   "metadata": {},
   "outputs": [],
   "source": [
    "def fn_get_concave_alpha_boundary(str_las_cluster_filepath, flt_alpha_value):\n",
    "    \n",
    "    # args:\n",
    "    #  str_las_cluster_filepath = las filepath of the idetified point cloud cluster\n",
    "    #           --- example: D:\\concave_hull_test_20230220\\bridge_3047.las\n",
    "    #  flt_alpha_value = alpha value to process\n",
    "    #          --- example: 0.001 ~ convex hull\n",
    "    #          --- example: 0.9 ~ highly concave hull\n",
    "    \n",
    "    import warnings\n",
    "    # turn off warnings\n",
    "    warnings.filterwarnings('ignore')\n",
    "    \n",
    "    # read the las file\n",
    "    las = pylas.read(str_las_cluster_filepath)\n",
    "    \n",
    "    # create numpy array from las x,y points\n",
    "    arr_las_points = np.stack((las.x, las.y), axis=1)\n",
    "    \n",
    "    coords = arr_las_points\n",
    "    #coords = np.array([point.coords[0] for point in points])\n",
    "\n",
    "    tri = Delaunay(arr_las_points)\n",
    "    triangles = arr_las_points[tri.vertices]\n",
    "    \n",
    "    a = ((triangles[:,0,0] - triangles[:,1,0]) ** 2 + (triangles[:,0,1] - triangles[:,1,1]) ** 2) ** 0.5\n",
    "    b = ((triangles[:,1,0] - triangles[:,2,0]) ** 2 + (triangles[:,1,1] - triangles[:,2,1]) ** 2) ** 0.5\n",
    "    c = ((triangles[:,2,0] - triangles[:,0,0]) ** 2 + (triangles[:,2,1] - triangles[:,0,1]) ** 2) ** 0.5\n",
    "    \n",
    "    s = ( a + b + c ) / 2.0\n",
    "    areas = (s*(s-a)*(s-b)*(s-c)) ** 0.5\n",
    "    circums = a * b * c / (4.0 * areas)\n",
    "    filtered = triangles[circums < (1.0 / flt_alpha_value)]\n",
    "    \n",
    "    edge1 = filtered[:,(0,1)]\n",
    "    edge2 = filtered[:,(1,2)]\n",
    "    edge3 = filtered[:,(2,0)]\n",
    "    \n",
    "    edge_points = np.unique(np.concatenate((edge1,edge2,edge3)), axis = 0).tolist()\n",
    "    m = geometry.MultiLineString(edge_points)\n",
    "    triangles = list(polygonize(m))\n",
    "    \n",
    "    return cascaded_union(triangles)"
   ]
  },
  {
   "cell_type": "code",
   "execution_count": 4,
   "id": "1cd00331",
   "metadata": {},
   "outputs": [],
   "source": [
    "def fn_remove_holes_from_polygon(shp_polygon,\n",
    "                                 flt_min_interior_hole_size_tokeep):\n",
    "    \n",
    "    from shapely.geometry import Polygon\n",
    "    \n",
    "    list_interiors = []\n",
    "\n",
    "    for interior in shp_polygon.interiors:\n",
    "        p = Polygon(interior)    \n",
    "        if p.area > flt_min_interior_hole_size_tokeep:\n",
    "            list_interiors.append(interior)\n",
    "\n",
    "    new_polygon = Polygon(shp_polygon.exterior.coords, holes=list_interiors)\n",
    "    \n",
    "    return new_polygon"
   ]
  },
  {
   "cell_type": "code",
   "execution_count": 5,
   "id": "9433b419",
   "metadata": {},
   "outputs": [],
   "source": [
    "def fn_remove_holes_from_multipolygon(shp_multipolygon,\n",
    "                                      flt_min_interior_hole_size_tokeep):\n",
    "    \n",
    "    from shapely.geometry import Polygon, MultiPolygon\n",
    "    \n",
    "    list_parts = []\n",
    "    \n",
    "    for polygon in shp_multipolygon.geoms:\n",
    "        list_interiors = []\n",
    "        \n",
    "        for interior in polygon.interiors:\n",
    "            p = Polygon(interior)\n",
    "\n",
    "            if p.area > flt_min_interior_hole_size_tokeep:\n",
    "                list_interiors.append(interior)\n",
    "                \n",
    "        temp_pol = Polygon(polygon.exterior.coords, holes=list_interiors)\n",
    "        list_parts.append(temp_pol)\n",
    "        \n",
    "    new_multipolygon = MultiPolygon(list_parts)\n",
    "    \n",
    "    return(new_multipolygon)"
   ]
  },
  {
   "cell_type": "code",
   "execution_count": 6,
   "id": "7b8e9f64",
   "metadata": {},
   "outputs": [],
   "source": [
    "def fn_get_largest_polygon(shp_hull_polygon):\n",
    "    \n",
    "    flt_max_hole_to_keep = 100\n",
    "    flt_min_island_to_keep = 100\n",
    "    \n",
    "    # determine the type of shp_hull_polygon\n",
    "    if shp_hull_polygon.geom_type == 'MultiPolygon':\n",
    "        \n",
    "        # remove the hole from the multipolygon\n",
    "        shp_multi_no_holes = fn_remove_holes_from_multipolygon(shp_hull_polygon,flt_max_hole_to_keep)\n",
    "        \n",
    "        # remove small islands from multipolygon\n",
    "        shp_island_remove = MultiPolygon([P for P in shp_multi_no_holes if P.area > flt_min_island_to_keep])\n",
    "        \n",
    "        shp_largest_polygon = max(shp_hull_polygon, key=lambda a: a.area)\n",
    "        \n",
    "    elif shp_polygon_01.geom_type == 'Polygon':\n",
    "        shp_largest_polygon = shp_hull_polygon\n",
    "        \n",
    "    return shp_largest_polygon"
   ]
  },
  {
   "cell_type": "code",
   "execution_count": 30,
   "id": "6b56adb2",
   "metadata": {},
   "outputs": [
    {
     "name": "stdout",
     "output_type": "stream",
     "text": [
      "Points found: 123365\n"
     ]
    },
    {
     "ename": "UnboundLocalError",
     "evalue": "local variable 'shp_largest_polygon' referenced before assignment",
     "output_type": "error",
     "traceback": [
      "\u001b[1;31m---------------------------------------------------------------------------\u001b[0m",
      "\u001b[1;31mUnboundLocalError\u001b[0m                         Traceback (most recent call last)",
      "File \u001b[1;32m<timed exec>:70\u001b[0m\n",
      "Cell \u001b[1;32mIn[6], line 20\u001b[0m, in \u001b[0;36mfn_get_largest_polygon\u001b[1;34m(shp_hull_polygon)\u001b[0m\n\u001b[0;32m     17\u001b[0m \u001b[38;5;28;01melif\u001b[39;00m shp_polygon_01\u001b[38;5;241m.\u001b[39mgeom_type \u001b[38;5;241m==\u001b[39m \u001b[38;5;124m'\u001b[39m\u001b[38;5;124mPolygon\u001b[39m\u001b[38;5;124m'\u001b[39m:\n\u001b[0;32m     18\u001b[0m     shp_largest_polygon \u001b[38;5;241m=\u001b[39m shp_hull_polygon\n\u001b[1;32m---> 20\u001b[0m \u001b[38;5;28;01mreturn\u001b[39;00m \u001b[43mshp_largest_polygon\u001b[49m\n",
      "\u001b[1;31mUnboundLocalError\u001b[0m: local variable 'shp_largest_polygon' referenced before assignment"
     ]
    }
   ],
   "source": [
    "%%time\n",
    "\n",
    "#def fn_determine_concave_hull(gdf_single_convex_hull, \n",
    "#                              str_copc_point_cloud,\n",
    "#                              str_output_las_dir)\n",
    "                              \n",
    "\n",
    "int_bridge_index = 3213\n",
    "\n",
    "# read the \"area of interest\" shapefile in to geopandas dataframe\n",
    "gdf_convex_hulls = gpd.read_file(str_convex_hull_ar)\n",
    "\n",
    "# get all the points inside the id = 2004 polygon\n",
    "gdf_single_convex = gdf_convex_hulls.loc[gdf_convex_hulls['id'] == int_bridge_index]\n",
    "\n",
    "# convex hull as wkt\n",
    "str_boundary_wkt = gdf_single_convex.iloc[0].geometry.wkt\n",
    "\n",
    "# point cloud per convex hull as las\n",
    "str_output_las = os.path.join(str_output_las_dir, \"bridge_\" + str(int_bridge_index) + '.las')\n",
    "\n",
    "pipeline_create_copc = {\n",
    "    \"pipeline\": [\n",
    "        {   \n",
    "            \"filename\":str_copc_point_cloud,\n",
    "            \"type\":\"readers.copc\",\n",
    "            \"tag\":\"readdata\"\n",
    "        },\n",
    "        {\n",
    "            \"type\":\"filters.crop\",\n",
    "            \"polygon\":str_boundary_wkt,\n",
    "            \"tag\":\"filter\"\n",
    "        },\n",
    "        {\n",
    "            \"filename\": str_output_las,\n",
    "            \"inputs\": [ \"filter\" ],\n",
    "            \"type\": \"writers.las\"\n",
    "        }\n",
    "    ]}\n",
    "\n",
    "if os.path.exists(str_output_las):\n",
    "    print('All ready exists')\n",
    "else:\n",
    "    #execute the pdal pipeline\n",
    "    pipeline = pdal.Pipeline(json.dumps(pipeline_create_copc))\n",
    "    n_points = pipeline.execute()\n",
    "\n",
    "# read the las file\n",
    "las = pylas.read(str_output_las)\n",
    "print('Points found: ' + str(len(las.x)))\n",
    "\n",
    "flt_desired_target = 0.25\n",
    "\n",
    "# default to concave hull\n",
    "shp_poly_to_process = fn_get_concave_alpha_boundary(str_output_las, 0.0001)\n",
    "\n",
    "# compute the first alpha shape\n",
    "shp_polygon_01 = fn_get_concave_alpha_boundary(str_output_las, 0.1)\n",
    "\n",
    "if (shp_polygon_01.area / len(las.x)) > flt_desired_target:\n",
    "    shp_poly_to_process = shp_polygon_01\n",
    "    shp_polygon_02 = fn_get_concave_alpha_boundary(str_output_las, 0.2)\n",
    "    \n",
    "    if (shp_polygon_02.area / len(las.x)) > flt_desired_target:\n",
    "        shp_poly_to_process = shp_polygon_02\n",
    "        shp_polygon_03 = fn_get_concave_alpha_boundary(str_output_las, 0.3)\n",
    "    \n",
    "        if (shp_polygon_03.area / len(las.x)) > flt_desired_target:\n",
    "            shp_poly_to_process = shp_polygon_03\n",
    "\n",
    "# find the largest polygon\n",
    "shp_largest = fn_get_largest_polygon(shp_poly_to_process)\n",
    "\n",
    "# remove the islands from the largest polygon\n",
    "shp_largest_no_holes = fn_remove_holes_from_polygon(shp_largest, 100)\n",
    "\n",
    "# simplify the polygon (0.9 meter resolution)\n",
    "shp_largest_no_holes_simple = shp_largest_no_holes.simplify(0.9, preserve_topology=False)\n",
    "\n",
    "# determine fraction of points that are inside the polygon\n",
    "pipeline_points_in_poly = {\n",
    "    \"pipeline\": [\n",
    "        {   \n",
    "            \"filename\":str_output_las,\n",
    "            \"type\":\"readers.las\",\n",
    "            \"tag\":\"readdata\"\n",
    "        },\n",
    "        {\n",
    "            \"type\":\"filters.crop\",\n",
    "            \"polygon\":shp_largest_no_holes.wkt,\n",
    "            \"tag\":\"filter\"\n",
    "        }\n",
    "    ]}\n",
    "\n",
    "#execute the pdal pipeline\n",
    "pipeline = pdal.Pipeline(json.dumps(pipeline_points_in_poly))\n",
    "n_points = pipeline.execute()\n",
    "print('Points in concav hull polygon: ' + str(n_points))\n",
    "\n",
    "flt_fraction_point_in_poly = n_points/len(las.x)\n",
    "print('Percent points in polygon: ' + str(flt_fraction_point_in_poly))\n",
    "\n",
    "# return gdf_concave_hull_poly"
   ]
  },
  {
   "cell_type": "code",
   "execution_count": 31,
   "id": "101a131f",
   "metadata": {},
   "outputs": [
    {
     "data": {
      "image/svg+xml": [
       "<svg xmlns=\"http://www.w3.org/2000/svg\" xmlns:xlink=\"http://www.w3.org/1999/xlink\" width=\"300\" height=\"100.0\" viewBox=\"-10786570.6736 3850488.2864 367.2971999980509 64.77719999989495\" preserveAspectRatio=\"xMinYMin meet\"><g transform=\"matrix(1,0,0,-1,0,7701041.35)\"><path fill-rule=\"evenodd\" fill=\"#66cc99\" stroke=\"#555555\" stroke-width=\"2.4486479999870063\" opacity=\"0.6\" d=\"M -10786548.81,3850537.42 L -10786302.0,3850539.46 L -10786281.51,3850537.87 L -10786234.16,3850538.39 L -10786216.98,3850506.58 L -10786234.28,3850505.1 L -10786267.43,3850505.14 L -10786269.42,3850506.17 L -10786274.02,3850504.9 L -10786467.01,3850505.23 L -10786510.18,3850501.89 L -10786557.07,3850537.12 L -10786548.81,3850537.42 z\" /></g></svg>"
      ],
      "text/plain": [
       "<shapely.geometry.polygon.Polygon at 0x29d84728400>"
      ]
     },
     "execution_count": 31,
     "metadata": {},
     "output_type": "execute_result"
    }
   ],
   "source": [
    "shp_largest_no_holes_simple"
   ]
  },
  {
   "cell_type": "code",
   "execution_count": 32,
   "id": "4d729561",
   "metadata": {},
   "outputs": [
    {
     "data": {
      "text/plain": [
       "'POLYGON ((-10786548.81 3850537.42, -10786302 3850539.46, -10786281.51 3850537.87, -10786234.16 3850538.39, -10786216.98 3850506.58, -10786234.28 3850505.1, -10786267.43 3850505.14, -10786269.42 3850506.17, -10786274.02 3850504.9, -10786467.01 3850505.23, -10786510.18 3850501.89, -10786557.07 3850537.12, -10786548.81 3850537.42))'"
      ]
     },
     "execution_count": 32,
     "metadata": {},
     "output_type": "execute_result"
    }
   ],
   "source": [
    "shp_largest_no_holes_simple.wkt"
   ]
  },
  {
   "cell_type": "code",
   "execution_count": 33,
   "id": "4c687d08",
   "metadata": {},
   "outputs": [
    {
     "data": {
      "text/plain": [
       "8.149713082503128e-05"
      ]
     },
     "execution_count": 33,
     "metadata": {},
     "output_type": "execute_result"
    }
   ],
   "source": [
    "shp_polygon_01.area / len(las.x)"
   ]
  },
  {
   "cell_type": "code",
   "execution_count": 35,
   "id": "23f0fe78",
   "metadata": {},
   "outputs": [
    {
     "ename": "NameError",
     "evalue": "name 'shp_polygon_0001' is not defined",
     "output_type": "error",
     "traceback": [
      "\u001b[1;31m---------------------------------------------------------------------------\u001b[0m",
      "\u001b[1;31mNameError\u001b[0m                                 Traceback (most recent call last)",
      "Cell \u001b[1;32mIn[35], line 1\u001b[0m\n\u001b[1;32m----> 1\u001b[0m \u001b[43mshp_polygon_0001\u001b[49m\u001b[38;5;241m.\u001b[39marea\n",
      "\u001b[1;31mNameError\u001b[0m: name 'shp_polygon_0001' is not defined"
     ]
    }
   ],
   "source": [
    "shp_polygon_0001.area"
   ]
  },
  {
   "cell_type": "code",
   "execution_count": 45,
   "id": "3a3e3b41",
   "metadata": {},
   "outputs": [
    {
     "data": {
      "image/svg+xml": [
       "<svg xmlns=\"http://www.w3.org/2000/svg\" xmlns:xlink=\"http://www.w3.org/1999/xlink\" width=\"300\" height=\"300\" viewBox=\"-10795705.6144 3856196.9156 2882.908799998462 527.7587999999523\" preserveAspectRatio=\"xMinYMin meet\"><g transform=\"matrix(1,0,0,-1,0,7712921.59)\"><g><path fill-rule=\"evenodd\" fill=\"#66cc99\" stroke=\"#555555\" stroke-width=\"19.21939199998975\" opacity=\"0.6\" d=\"M -10795586.25,3856303.73 L -10795585.07,3856303.75 L -10795587.43,3856303.69 L -10795586.25,3856303.73 z\" /><path fill-rule=\"evenodd\" fill=\"#66cc99\" stroke=\"#555555\" stroke-width=\"19.21939199998975\" opacity=\"0.6\" d=\"M -10795591.52,3856304.64 L -10795592.98,3856305.36 L -10795593.620000001,3856305.7600000002 L -10795591.52,3856304.64 z\" /><path fill-rule=\"evenodd\" fill=\"#66cc99\" stroke=\"#555555\" stroke-width=\"19.21939199998975\" opacity=\"0.6\" d=\"M -10795597.92,3856309.15 L -10795598.32,3856308.2800000003 L -10795598.84,3856307.18 L -10795597.92,3856309.15 z\" /><path fill-rule=\"evenodd\" fill=\"#66cc99\" stroke=\"#555555\" stroke-width=\"19.21939199998975\" opacity=\"0.6\" d=\"M -10795585.59,3856312.41 L -10795585.35,3856313.2800000003 L -10795585.86,3856310.5 L -10795585.59,3856312.41 z\" /><path fill-rule=\"evenodd\" fill=\"#66cc99\" stroke=\"#555555\" stroke-width=\"19.21939199998975\" opacity=\"0.6\" d=\"M -10795591.32,3856313.12 L -10795591.3,3856312.2600000002 L -10795591.44,3856314.61 L -10795591.32,3856313.12 z\" /><path fill-rule=\"evenodd\" fill=\"#66cc99\" stroke=\"#555555\" stroke-width=\"19.21939199998975\" opacity=\"0.6\" d=\"M -10795488.81,3856314.64 L -10795487.51,3856314.61 L -10795490.11,3856314.65 L -10795488.81,3856314.64 z\" /><path fill-rule=\"evenodd\" fill=\"#66cc99\" stroke=\"#555555\" stroke-width=\"19.21939199998975\" opacity=\"0.6\" d=\"M -10795589.6,3856314.73 L -10795591.44,3856314.61 L -10795588.120000001,3856315.02 L -10795589.6,3856314.73 z\" /><path fill-rule=\"evenodd\" fill=\"#66cc99\" stroke=\"#555555\" stroke-width=\"19.21939199998975\" opacity=\"0.6\" d=\"M -10795563.38,3856315.27 L -10795564.63,3856315.23 L -10795565.88,3856315.2 L -10795563.38,3856315.27 z\" /><path fill-rule=\"evenodd\" fill=\"#66cc99\" stroke=\"#555555\" stroke-width=\"19.21939199998975\" opacity=\"0.6\" d=\"M -10795537.05,3856317.88 L -10795538.25,3856318.22 L -10795535.28,3856317.52 L -10795537.05,3856317.88 z\" /><path fill-rule=\"evenodd\" fill=\"#66cc99\" stroke=\"#555555\" stroke-width=\"19.21939199998975\" opacity=\"0.6\" d=\"M -10795491.55,3856321.34 L -10795493.15,3856319.36 L -10795492.21,3856320.59 L -10795491.55,3856321.34 z\" /><path fill-rule=\"evenodd\" fill=\"#66cc99\" stroke=\"#555555\" stroke-width=\"19.21939199998975\" opacity=\"0.6\" d=\"M -10795463.040000001,3856321.38 L -10795461.75,3856321.41 L -10795464.32,3856321.34 L -10795463.040000001,3856321.38 z\" /><path fill-rule=\"evenodd\" fill=\"#66cc99\" stroke=\"#555555\" stroke-width=\"19.21939199998975\" opacity=\"0.6\" d=\"M -10795439.55,3856321.38 L -10795440.81,3856321.39 L -10795442.040000001,3856321.4 L -10795439.55,3856321.38 z\" /><path fill-rule=\"evenodd\" fill=\"#66cc99\" stroke=\"#555555\" stroke-width=\"19.21939199998975\" opacity=\"0.6\" d=\"M -10795488.200000001,3856323.89 L -10795490.43,3856322.1 L -10795489.64,3856322.84 L -10795488.200000001,3856323.89 z\" /><path fill-rule=\"evenodd\" fill=\"#66cc99\" stroke=\"#555555\" stroke-width=\"19.21939199998975\" opacity=\"0.6\" d=\"M -10795466.02,3856323.58 L -10795466.950000001,3856323.42 L -10795465.06,3856323.81 L -10795466.02,3856323.58 z\" /><path fill-rule=\"evenodd\" fill=\"#66cc99\" stroke=\"#555555\" stroke-width=\"19.21939199998975\" opacity=\"0.6\" d=\"M -10795450.23,3856323.34 L -10795451.35,3856323.86 L -10795452.25,3856324.34 L -10795450.23,3856323.34 z\" /><path fill-rule=\"evenodd\" fill=\"#66cc99\" stroke=\"#555555\" stroke-width=\"19.21939199998975\" opacity=\"0.6\" d=\"M -10795415.290000001,3856323.86 L -10795416.1,3856324.72 L -10795416.92,3856325.7800000003 L -10795415.290000001,3856323.86 z\" /><path fill-rule=\"evenodd\" fill=\"#66cc99\" stroke=\"#555555\" stroke-width=\"19.21939199998975\" opacity=\"0.6\" d=\"M -10795444.6,3856325.13 L -10795447.1,3856325.16 L -10795445.85,3856325.15 L -10795444.6,3856325.13 z\" /><path fill-rule=\"evenodd\" fill=\"#66cc99\" stroke=\"#555555\" stroke-width=\"19.21939199998975\" opacity=\"0.6\" d=\"M -10795489.99,3856326.58 L -10795492.28,3856326.3000000003 L -10795489.28,3856326.7600000002 L -10795489.99,3856326.58 z\" /><path fill-rule=\"evenodd\" fill=\"#66cc99\" stroke=\"#555555\" stroke-width=\"19.21939199998975\" opacity=\"0.6\" d=\"M -10795466.790000001,3856327.77 L -10795467.33,3856326.85 L -10795466.28,3856328.81 L -10795466.790000001,3856327.77 z\" /><path fill-rule=\"evenodd\" fill=\"#66cc99\" stroke=\"#555555\" stroke-width=\"19.21939199998975\" opacity=\"0.6\" d=\"M -10795411.81,3856330.2600000002 L -10795413.05,3856329.36 L -10795413.870000001,3856328.8200000003 L -10795411.81,3856330.2600000002 z\" /><path fill-rule=\"evenodd\" fill=\"#66cc99\" stroke=\"#555555\" stroke-width=\"19.21939199998975\" opacity=\"0.6\" d=\"M -10795400.64,3856333.83 L -10795401.870000001,3856333.85 L -10795399.42,3856333.8200000003 L -10795400.64,3856333.83 z\" /><path fill-rule=\"evenodd\" fill=\"#66cc99\" stroke=\"#555555\" stroke-width=\"19.21939199998975\" opacity=\"0.6\" d=\"M -10795332.69,3856335.08 L -10795333.040000001,3856333.7800000003 L -10795333.200000001,3856333.19 L -10795332.69,3856335.08 z\" /><path fill-rule=\"evenodd\" fill=\"#66cc99\" stroke=\"#555555\" stroke-width=\"19.21939199998975\" opacity=\"0.6\" d=\"M -10795396.47,3856336.79 L -10795396.53,3856335.61 L -10795396.72,3856334.35 L -10795396.47,3856336.79 z\" /><path fill-rule=\"evenodd\" fill=\"#66cc99\" stroke=\"#555555\" stroke-width=\"19.21939199998975\" opacity=\"0.6\" d=\"M -10795332.64,3856336.48 L -10795333.81,3856336.5100000002 L -10795331.48,3856336.47 L -10795332.64,3856336.48 z\" /><path fill-rule=\"evenodd\" fill=\"#66cc99\" stroke=\"#555555\" stroke-width=\"19.21939199998975\" opacity=\"0.6\" d=\"M -10795318.11,3856336.63 L -10795319.17,3856337.68 L -10795317.16,3856335.83 L -10795318.11,3856336.63 z\" /><path fill-rule=\"evenodd\" fill=\"#66cc99\" stroke=\"#555555\" stroke-width=\"19.21939199998975\" opacity=\"0.6\" d=\"M -10795367.22,3856338.34 L -10795367.67,3856336.0300000003 L -10795367.450000001,3856337.31 L -10795367.22,3856338.34 z\" /><path fill-rule=\"evenodd\" fill=\"#66cc99\" stroke=\"#555555\" stroke-width=\"19.21939199998975\" opacity=\"0.6\" d=\"M -10795317.09,3856336.97 L -10795317.16,3856335.83 L -10795317.11,3856338.6 L -10795317.09,3856336.97 z\" /><path fill-rule=\"evenodd\" fill=\"#66cc99\" stroke=\"#555555\" stroke-width=\"19.21939199998975\" opacity=\"0.6\" d=\"M -10795350.5,3856339.19 L -10795352.97,3856339.08 L -10795351.790000001,3856339.2 L -10795350.5,3856339.19 z\" /><path fill-rule=\"evenodd\" fill=\"#66cc99\" stroke=\"#555555\" stroke-width=\"19.21939199998975\" opacity=\"0.6\" d=\"M -10795282.38,3856342.31 L -10795281.21,3856342.35 L -10795283.540000001,3856342.27 L -10795282.38,3856342.31 z\" /><path fill-rule=\"evenodd\" fill=\"#66cc99\" stroke=\"#555555\" stroke-width=\"19.21939199998975\" opacity=\"0.6\" d=\"M -10795273.06,3856343.75 L -10795272.9,3856342.87 L -10795273.41,3856345.06 L -10795273.06,3856343.75 z\" /><path fill-rule=\"evenodd\" fill=\"#66cc99\" stroke=\"#555555\" stroke-width=\"19.21939199998975\" opacity=\"0.6\" d=\"M -10795322.89,3856345.0300000003 L -10795324.07,3856344.39 L -10795321.82,3856345.62 L -10795322.89,3856345.0300000003 z\" /><path fill-rule=\"evenodd\" fill=\"#66cc99\" stroke=\"#555555\" stroke-width=\"19.21939199998975\" opacity=\"0.6\" d=\"M -10795324.27,3856346.74 L -10795324.120000001,3856345.64 L -10795324.07,3856344.39 L -10795324.176445639,3856345.6407362474 L -10795326.42,3856345.67 L -10795325.290000001,3856345.66 L -10795324.176465124,3856345.640965216 L -10795324.27,3856346.74 z\" /><path fill-rule=\"evenodd\" fill=\"#66cc99\" stroke=\"#555555\" stroke-width=\"19.21939199998975\" opacity=\"0.6\" d=\"M -10795273.08,3856346.39 L -10795275.57,3856345.66 L -10795274.21,3856346.14 L -10795273.08,3856346.39 z\" /><path fill-rule=\"evenodd\" fill=\"#66cc99\" stroke=\"#555555\" stroke-width=\"19.21939199998975\" opacity=\"0.6\" d=\"M -10795307.3,3856347.22 L -10795308.35,3856347.2 L -10795309.84,3856347.35 L -10795307.3,3856347.22 z\" /><path fill-rule=\"evenodd\" fill=\"#66cc99\" stroke=\"#555555\" stroke-width=\"19.21939199998975\" opacity=\"0.6\" d=\"M -10795262.55,3856347.8000000003 L -10795263.68,3856347.8200000003 L -10795261.46,3856347.79 L -10795262.55,3856347.8000000003 z\" /><path fill-rule=\"evenodd\" fill=\"#66cc99\" stroke=\"#555555\" stroke-width=\"19.21939199998975\" opacity=\"0.6\" d=\"M -10795235.74,3856348.14 L -10795235.83,3856349.35 L -10795235.53,3856346.73 L -10795235.74,3856348.14 z\" /><path fill-rule=\"evenodd\" fill=\"#66cc99\" stroke=\"#555555\" stroke-width=\"19.21939199998975\" opacity=\"0.6\" d=\"M -10795249.540000001,3856349.59 L -10795249.81,3856348.66 L -10795250.200000001,3856347.64 L -10795249.540000001,3856349.59 z\" /><path fill-rule=\"evenodd\" fill=\"#66cc99\" stroke=\"#555555\" stroke-width=\"19.21939199998975\" opacity=\"0.6\" d=\"M -10795285.540000001,3856348.45 L -10795287.28,3856349.86 L -10795286.38,3856349.14 L -10795285.540000001,3856348.45 z\" /><path fill-rule=\"evenodd\" fill=\"#66cc99\" stroke=\"#555555\" stroke-width=\"19.21939199998975\" opacity=\"0.6\" d=\"M -10795255.55,3856353.27 L -10795257.74,3856353.3000000003 L -10795256.65,3856353.29 L -10795255.55,3856353.27 z\" /><path fill-rule=\"evenodd\" fill=\"#66cc99\" stroke=\"#555555\" stroke-width=\"19.21939199998975\" opacity=\"0.6\" d=\"M -10795225.24,3856357.21 L -10795226.72,3856357.29 L -10795224.19,3856357.19 L -10795225.24,3856357.21 z\" /><path fill-rule=\"evenodd\" fill=\"#66cc99\" stroke=\"#555555\" stroke-width=\"19.21939199998975\" opacity=\"0.6\" d=\"M -10795133.66,3856358.2800000003 L -10795134.71,3856357.33 L -10795133.120000001,3856358.77 L -10795133.66,3856358.2800000003 z\" /><path fill-rule=\"evenodd\" fill=\"#66cc99\" stroke=\"#555555\" stroke-width=\"19.21939199998975\" opacity=\"0.6\" d=\"M -10795171.55,3856358.85 L -10795172.47,3856358.45 L -10795170.31,3856359.47 L -10795171.55,3856358.85 z\" /><path fill-rule=\"evenodd\" fill=\"#66cc99\" stroke=\"#555555\" stroke-width=\"19.21939199998975\" opacity=\"0.6\" d=\"M -10795179.46,3856360.71 L -10795180.19,3856358.47 L -10795179.78,3856359.75 L -10795179.46,3856360.71 z\" /><path fill-rule=\"evenodd\" fill=\"#66cc99\" stroke=\"#555555\" stroke-width=\"19.21939199998975\" opacity=\"0.6\" d=\"M -10795146.99,3856360.68 L -10795146.19,3856361.18 L -10795148.09,3856359.81 L -10795146.99,3856360.68 z\" /><path fill-rule=\"evenodd\" fill=\"#66cc99\" stroke=\"#555555\" stroke-width=\"19.21939199998975\" opacity=\"0.6\" d=\"M -10795168.74,3856362.13 L -10795170.74,3856362.15 L -10795169.75,3856362.15 L -10795168.74,3856362.13 z\" /><path fill-rule=\"evenodd\" fill=\"#66cc99\" stroke=\"#555555\" stroke-width=\"19.21939199998975\" opacity=\"0.6\" d=\"M -10795126.13,3856366.56 L -10795128.21,3856365.64 L -10795127.26,3856366.12 L -10795126.13,3856366.56 z\" /><path fill-rule=\"evenodd\" fill=\"#66cc99\" stroke=\"#555555\" stroke-width=\"19.21939199998975\" opacity=\"0.6\" d=\"M -10795143.67,3856366.75 L -10795144.72,3856366.77 L -10795146.200000001,3856366.91 L -10795143.67,3856366.75 z\" /><path fill-rule=\"evenodd\" fill=\"#66cc99\" stroke=\"#555555\" stroke-width=\"19.21939199998975\" opacity=\"0.6\" d=\"M -10795090.36,3856365.68 L -10795090.700000001,3856364.84 L -10795089.78,3856367.17 L -10795090.36,3856365.68 z\" /><path fill-rule=\"evenodd\" fill=\"#66cc99\" stroke=\"#555555\" stroke-width=\"19.21939199998975\" opacity=\"0.6\" d=\"M -10795076.63,3856366.11 L -10795077.88,3856366.0700000003 L -10795074.870000001,3856366.43 L -10795076.63,3856366.11 z\" /><path fill-rule=\"evenodd\" fill=\"#66cc99\" stroke=\"#555555\" stroke-width=\"19.21939199998975\" opacity=\"0.6\" d=\"M -10795052.96,3856366.5 L -10795053.61,3856368.2800000003 L -10795053.08,3856366.85 L -10795052.96,3856366.5 z\" /><path fill-rule=\"evenodd\" fill=\"#66cc99\" stroke=\"#555555\" stroke-width=\"19.21939199998975\" opacity=\"0.6\" d=\"M -10795100.06,3856368.95 L -10795101.16,3856368.12 L -10795102.0,3856367.62 L -10795100.06,3856368.95 z\" /><path fill-rule=\"evenodd\" fill=\"#66cc99\" stroke=\"#555555\" stroke-width=\"19.21939199998975\" opacity=\"0.6\" d=\"M -10795126.69,3856368.93 L -10795127.1,3856370.2 L -10795126.34,3856367.9 L -10795126.69,3856368.93 z\" /><path fill-rule=\"evenodd\" fill=\"#66cc99\" stroke=\"#555555\" stroke-width=\"19.21939199998975\" opacity=\"0.6\" d=\"M -10795039.73,3856369.21 L -10795040.870000001,3856369.06 L -10795042.1,3856369.0300000003 L -10795039.73,3856369.21 z\" /><path fill-rule=\"evenodd\" fill=\"#66cc99\" stroke=\"#555555\" stroke-width=\"19.21939199998975\" opacity=\"0.6\" d=\"M -10795091.59,3856369.81 L -10795093.16,3856368.49 L -10795092.27,3856369.3000000003 L -10795091.59,3856369.81 z\" /><path fill-rule=\"evenodd\" fill=\"#66cc99\" stroke=\"#555555\" stroke-width=\"19.21939199998975\" opacity=\"0.6\" d=\"M -10795099.290000001,3856370.12 L -10795100.18,3856370.87 L -10795098.39,3856369.44 L -10795099.290000001,3856370.12 z\" /><path fill-rule=\"evenodd\" fill=\"#66cc99\" stroke=\"#555555\" stroke-width=\"19.21939199998975\" opacity=\"0.6\" d=\"M -10795017.31,3856372.18 L -10795016.28,3856372.16 L -10795018.38,3856372.18 L -10795017.31,3856372.18 z\" /><path fill-rule=\"evenodd\" fill=\"#66cc99\" stroke=\"#555555\" stroke-width=\"19.21939199998975\" opacity=\"0.6\" d=\"M -10795060.16,3856372.14 L -10795061.4,3856373.92 L -10795060.8,3856373.12 L -10795060.16,3856372.14 z\" /><path fill-rule=\"evenodd\" fill=\"#66cc99\" stroke=\"#555555\" stroke-width=\"19.21939199998975\" opacity=\"0.6\" d=\"M -10795074.74,3856372.83 L -10795076.02,3856373.3000000003 L -10795077.15,3856373.85 L -10795074.74,3856372.83 z\" /><path fill-rule=\"evenodd\" fill=\"#66cc99\" stroke=\"#555555\" stroke-width=\"19.21939199998975\" opacity=\"0.6\" d=\"M -10795023.03,3856376.84 L -10795023.36,3856375.41 L -10795023.620000001,3856374.61 L -10795023.03,3856376.84 z\" /><path fill-rule=\"evenodd\" fill=\"#66cc99\" stroke=\"#555555\" stroke-width=\"19.21939199998975\" opacity=\"0.6\" d=\"M -10794970.63,3856376.73 L -10794971.56,3856377.58 L -10794972.47,3856378.5700000003 L -10794970.63,3856376.73 z\" /><path fill-rule=\"evenodd\" fill=\"#66cc99\" stroke=\"#555555\" stroke-width=\"19.21939199998975\" opacity=\"0.6\" d=\"M -10795008.9,3856378.5500000003 L -10795009.75,3856381.38 L -10795009.28,3856380.0 L -10795008.9,3856378.5500000003 z\" /><path fill-rule=\"evenodd\" fill=\"#66cc99\" stroke=\"#555555\" stroke-width=\"19.21939199998975\" opacity=\"0.6\" d=\"M -10795012.48,3856382.45 L -10795013.57,3856383.75 L -10795011.97,3856381.94 L -10795012.48,3856382.45 z\" /><path fill-rule=\"evenodd\" fill=\"#66cc99\" stroke=\"#555555\" stroke-width=\"19.21939199998975\" opacity=\"0.6\" d=\"M -10795000.43,3856385.06 L -10794999.73,3856385.34 L -10795001.96,3856384.35 L -10795000.43,3856385.06 z\" /><path fill-rule=\"evenodd\" fill=\"#66cc99\" stroke=\"#555555\" stroke-width=\"19.21939199998975\" opacity=\"0.6\" d=\"M -10794942.49,3856386.46 L -10794943.32,3856386.12 L -10794941.46,3856386.89 L -10794942.49,3856386.46 z\" /><path fill-rule=\"evenodd\" fill=\"#66cc99\" stroke=\"#555555\" stroke-width=\"19.21939199998975\" opacity=\"0.6\" d=\"M -10794900.25,3856388.17 L -10794899.15,3856387.86 L -10794901.71,3856388.54 L -10794900.25,3856388.17 z\" /><path fill-rule=\"evenodd\" fill=\"#66cc99\" stroke=\"#555555\" stroke-width=\"19.21939199998975\" opacity=\"0.6\" d=\"M -10794871.65,3856389.8000000003 L -10794872.81,3856388.62 L -10794873.51,3856387.93 L -10794871.65,3856389.8000000003 z\" /><path fill-rule=\"evenodd\" fill=\"#66cc99\" stroke=\"#555555\" stroke-width=\"19.21939199998975\" opacity=\"0.6\" d=\"M -10794912.86,3856389.18 L -10794911.66,3856389.45 L -10794914.09,3856388.88 L -10794912.86,3856389.18 z\" /><path fill-rule=\"evenodd\" fill=\"#66cc99\" stroke=\"#555555\" stroke-width=\"19.21939199998975\" opacity=\"0.6\" d=\"M -10794890.36,3856389.21 L -10794891.49,3856389.23 L -10794889.23,3856389.2 L -10794890.36,3856389.21 z\" /><path fill-rule=\"evenodd\" fill=\"#66cc99\" stroke=\"#555555\" stroke-width=\"19.21939199998975\" opacity=\"0.6\" d=\"M -10794947.05,3856388.5700000003 L -10794949.05,3856389.88 L -10794947.870000001,3856389.12 L -10794947.05,3856388.5700000003 z\" /><path fill-rule=\"evenodd\" fill=\"#66cc99\" stroke=\"#555555\" stroke-width=\"19.21939199998975\" opacity=\"0.6\" d=\"M -10794873.98,3856391.24 L -10794875.27,3856390.0500000003 L -10794876.18,3856389.4 L -10794873.98,3856391.24 z\" /><path fill-rule=\"evenodd\" fill=\"#66cc99\" stroke=\"#555555\" stroke-width=\"19.21939199998975\" opacity=\"0.6\" d=\"M -10794876.38,3856394.46 L -10794876.11,3856393.65 L -10794876.81,3856395.52 L -10794876.38,3856394.46 z\" /><path fill-rule=\"evenodd\" fill=\"#66cc99\" stroke=\"#555555\" stroke-width=\"19.21939199998975\" opacity=\"0.6\" d=\"M -10794823.8,3856396.02 L -10794826.18,3856396.0300000003 L -10794825.040000001,3856396.0300000003 L -10794823.8,3856396.02 z\" /><path fill-rule=\"evenodd\" fill=\"#66cc99\" stroke=\"#555555\" stroke-width=\"19.21939199998975\" opacity=\"0.6\" d=\"M -10794814.39,3856396.4 L -10794813.34,3856396.44 L -10794812.27,3856396.46 L -10794814.39,3856396.4 z\" /><path fill-rule=\"evenodd\" fill=\"#66cc99\" stroke=\"#555555\" stroke-width=\"19.21939199998975\" opacity=\"0.6\" d=\"M -10794799.540000001,3856396.88 L -10794801.64,3856396.8000000003 L -10794800.6,3856396.84 L -10794799.540000001,3856396.88 z\" /><path fill-rule=\"evenodd\" fill=\"#66cc99\" stroke=\"#555555\" stroke-width=\"19.21939199998975\" opacity=\"0.6\" d=\"M -10794841.46,3856397.39 L -10794842.07,3856396.23 L -10794840.91,3856398.7 L -10794841.46,3856397.39 z\" /><path fill-rule=\"evenodd\" fill=\"#66cc99\" stroke=\"#555555\" stroke-width=\"19.21939199998975\" opacity=\"0.6\" d=\"M -10794859.46,3856401.96 L -10794858.6,3856402.2600000002 L -10794860.49,3856401.54 L -10794859.46,3856401.96 z\" /><path fill-rule=\"evenodd\" fill=\"#66cc99\" stroke=\"#555555\" stroke-width=\"19.21939199998975\" opacity=\"0.6\" d=\"M -10794838.63,3856403.74 L -10794837.8,3856402.63 L -10794839.22,3856404.4 L -10794838.63,3856403.74 z\" /><path fill-rule=\"evenodd\" fill=\"#66cc99\" stroke=\"#555555\" stroke-width=\"19.21939199998975\" opacity=\"0.6\" d=\"M -10794808.540000001,3856402.77 L -10794809.290000001,3856404.95 L -10794808.92,3856403.92 L -10794808.540000001,3856402.77 z\" /><path fill-rule=\"evenodd\" fill=\"#66cc99\" stroke=\"#555555\" stroke-width=\"19.21939199998975\" opacity=\"0.6\" d=\"M -10794827.1,3856405.89 L -10794828.120000001,3856405.73 L -10794825.4,3856406.31 L -10794827.1,3856405.89 z\" /><path fill-rule=\"evenodd\" fill=\"#66cc99\" stroke=\"#555555\" stroke-width=\"19.21939199998975\" opacity=\"0.6\" d=\"M -10794736.4,3856407.94 L -10794737.9,3856407.97 L -10794735.17,3856408.06 L -10794736.4,3856407.94 z\" /><path fill-rule=\"evenodd\" fill=\"#66cc99\" stroke=\"#555555\" stroke-width=\"19.21939199998975\" opacity=\"0.6\" d=\"M -10794714.56,3856407.8000000003 L -10794714.65,3856406.87 L -10794714.55,3856409.25 L -10794714.56,3856407.8000000003 z\" /><path fill-rule=\"evenodd\" fill=\"#66cc99\" stroke=\"#555555\" stroke-width=\"19.21939199998975\" opacity=\"0.6\" d=\"M -10794797.57,3856408.09 L -10794796.38,3856408.0700000003 L -10794798.78,3856408.1 L -10794797.57,3856408.09 z\" /><path fill-rule=\"evenodd\" fill=\"#66cc99\" stroke=\"#555555\" stroke-width=\"19.21939199998975\" opacity=\"0.6\" d=\"M -10794763.540000001,3856409.0 L -10794764.59,3856409.54 L -10794762.55,3856408.6 L -10794763.540000001,3856409.0 z\" /><path fill-rule=\"evenodd\" fill=\"#66cc99\" stroke=\"#555555\" stroke-width=\"19.21939199998975\" opacity=\"0.6\" d=\"M -10794692.9,3856411.77 L -10794695.25,3856410.49 L -10794694.07,3856411.18 L -10794692.9,3856411.77 z\" /><path fill-rule=\"evenodd\" fill=\"#66cc99\" stroke=\"#555555\" stroke-width=\"19.21939199998975\" opacity=\"0.6\" d=\"M -10794753.15,3856413.0100000002 L -10794754.08,3856410.69 L -10794753.63,3856411.98 L -10794753.15,3856413.0100000002 z\" /><path fill-rule=\"evenodd\" fill=\"#66cc99\" stroke=\"#555555\" stroke-width=\"19.21939199998975\" opacity=\"0.6\" d=\"M -10794738.14,3856413.5500000003 L -10794738.32,3856412.84 L -10794738.78,3856411.35 L -10794738.14,3856413.5500000003 z\" /><path fill-rule=\"evenodd\" fill=\"#66cc99\" stroke=\"#555555\" stroke-width=\"19.21939199998975\" opacity=\"0.6\" d=\"M -10794673.39,3856413.2 L -10794675.43,3856413.14 L -10794674.42,3856413.18 L -10794673.39,3856413.2 z\" /><path fill-rule=\"evenodd\" fill=\"#66cc99\" stroke=\"#555555\" stroke-width=\"19.21939199998975\" opacity=\"0.6\" d=\"M -10794692.69,3856413.59 L -10794691.76,3856414.34 L -10794693.790000001,3856412.5500000003 L -10794692.69,3856413.59 z\" /><path fill-rule=\"evenodd\" fill=\"#66cc99\" stroke=\"#555555\" stroke-width=\"19.21939199998975\" opacity=\"0.6\" d=\"M -10794664.71,3856416.6 L -10794665.69,3856416.58 L -10794663.73,3856416.63 L -10794664.71,3856416.6 z\" /><path fill-rule=\"evenodd\" fill=\"#66cc99\" stroke=\"#555555\" stroke-width=\"19.21939199998975\" opacity=\"0.6\" d=\"M -10794725.370000001,3856416.7800000003 L -10794723.94,3856416.47 L -10794726.290000001,3856416.97 L -10794725.370000001,3856416.7800000003 z\" /><path fill-rule=\"evenodd\" fill=\"#66cc99\" stroke=\"#555555\" stroke-width=\"19.21939199998975\" opacity=\"0.6\" d=\"M -10794664.120000001,3856418.0100000002 L -10794663.73,3856416.63 L -10794664.41,3856418.98 L -10794664.120000001,3856418.0100000002 z\" /><path fill-rule=\"evenodd\" fill=\"#66cc99\" stroke=\"#555555\" stroke-width=\"19.21939199998975\" opacity=\"0.6\" d=\"M -10794705.06,3856418.0700000003 L -10794706.33,3856418.08 L -10794707.59,3856418.11 L -10794705.06,3856418.0700000003 z\" /><path fill-rule=\"evenodd\" fill=\"#66cc99\" stroke=\"#555555\" stroke-width=\"19.21939199998975\" opacity=\"0.6\" d=\"M -10794676.51,3856419.89 L -10794677.450000001,3856419.5300000003 L -10794675.19,3856420.56 L -10794676.51,3856419.89 z\" /><path fill-rule=\"evenodd\" fill=\"#66cc99\" stroke=\"#555555\" stroke-width=\"19.21939199998975\" opacity=\"0.6\" d=\"M -10794698.46,3856420.18 L -10794698.69,3856421.3000000003 L -10794698.18,3856418.92 L -10794698.46,3856420.18 z\" /><path fill-rule=\"evenodd\" fill=\"#66cc99\" stroke=\"#555555\" stroke-width=\"19.21939199998975\" opacity=\"0.6\" d=\"M -10794669.64,3856424.72 L -10794670.78,3856424.49 L -10794666.89,3856425.84 L -10794669.64,3856424.72 z\" /><path fill-rule=\"evenodd\" fill=\"#66cc99\" stroke=\"#555555\" stroke-width=\"19.21939199998975\" opacity=\"0.6\" d=\"M -10794623.13,3856417.86 L -10794624.200000001,3856419.73 L -10794623.46,3856418.47 L -10794623.13,3856417.86 z\" /><path fill-rule=\"evenodd\" fill=\"#66cc99\" stroke=\"#555555\" stroke-width=\"19.21939199998975\" opacity=\"0.6\" d=\"M -10794581.94,3856422.83 L -10794583.99,3856422.7600000002 L -10794582.98,3856422.8000000003 L -10794581.94,3856422.83 z\" /><path fill-rule=\"evenodd\" fill=\"#66cc99\" stroke=\"#555555\" stroke-width=\"19.21939199998975\" opacity=\"0.6\" d=\"M -10794632.22,3856425.58 L -10794631.200000001,3856425.62 L -10794629.15,3856425.68 L -10794630.16,3856425.65 L -10794632.22,3856425.58 z\" /><path fill-rule=\"evenodd\" fill=\"#66cc99\" stroke=\"#555555\" stroke-width=\"19.21939199998975\" opacity=\"0.6\" d=\"M -10794586.42,3856428.88 L -10794587.02,3856430.12 L -10794587.5,3856431.15 L -10794586.42,3856428.88 z\" /><path fill-rule=\"evenodd\" fill=\"#66cc99\" stroke=\"#555555\" stroke-width=\"19.21939199998975\" opacity=\"0.6\" d=\"M -10794614.33,3856430.73 L -10794614.96,3856429.22 L -10794614.13,3856431.36 L -10794614.33,3856430.73 z\" /><path fill-rule=\"evenodd\" fill=\"#66cc99\" stroke=\"#555555\" stroke-width=\"19.21939199998975\" opacity=\"0.6\" d=\"M -10794565.89,3856433.24 L -10794566.57,3856434.11 L -10794564.98,3856432.22 L -10794565.89,3856433.24 z\" /><path fill-rule=\"evenodd\" fill=\"#66cc99\" stroke=\"#555555\" stroke-width=\"19.21939199998975\" opacity=\"0.6\" d=\"M -10794522.58,3856438.33 L -10794523.16,3856437.3200000003 L -10794523.74,3856436.38 L -10794522.58,3856438.33 z\" /><path fill-rule=\"evenodd\" fill=\"#66cc99\" stroke=\"#555555\" stroke-width=\"19.21939199998975\" opacity=\"0.6\" d=\"M -10794459.51,3856440.31 L -10794459.6,3856438.94 L -10794459.78,3856437.74 L -10794459.51,3856440.31 z\" /><path fill-rule=\"evenodd\" fill=\"#66cc99\" stroke=\"#555555\" stroke-width=\"19.21939199998975\" opacity=\"0.6\" d=\"M -10794496.19,3856440.17 L -10794494.97,3856439.72 L -10794497.66,3856440.56 L -10794496.19,3856440.17 z\" /><path fill-rule=\"evenodd\" fill=\"#66cc99\" stroke=\"#555555\" stroke-width=\"19.21939199998975\" opacity=\"0.6\" d=\"M -10794474.57,3856440.99 L -10794476.8,3856440.92 L -10794475.68,3856440.96 L -10794474.57,3856440.99 z\" /><path fill-rule=\"evenodd\" fill=\"#66cc99\" stroke=\"#555555\" stroke-width=\"19.21939199998975\" opacity=\"0.6\" d=\"M -10794451.58,3856442.4 L -10794451.46,3856443.5 L -10794451.72,3856441.0700000003 L -10794451.58,3856442.4 z\" /><path fill-rule=\"evenodd\" fill=\"#66cc99\" stroke=\"#555555\" stroke-width=\"19.21939199998975\" opacity=\"0.6\" d=\"M -10794432.42,3856444.63 L -10794434.42,3856442.94 L -10794433.120000001,3856444.0500000003 L -10794432.42,3856444.63 z\" /><path fill-rule=\"evenodd\" fill=\"#66cc99\" stroke=\"#555555\" stroke-width=\"19.21939199998975\" opacity=\"0.6\" d=\"M -10794464.540000001,3856445.0100000002 L -10794466.47,3856445.08 L -10794465.24,3856445.06 L -10794464.540000001,3856445.0100000002 z\" /><path fill-rule=\"evenodd\" fill=\"#66cc99\" stroke=\"#555555\" stroke-width=\"19.21939199998975\" opacity=\"0.6\" d=\"M -10794415.15,3856446.52 L -10794417.67,3856446.34 L -10794416.31,3856446.48 L -10794415.15,3856446.52 z\" /><path fill-rule=\"evenodd\" fill=\"#66cc99\" stroke=\"#555555\" stroke-width=\"19.21939199998975\" opacity=\"0.6\" d=\"M -10794370.69,3856447.85 L -10794372.58,3856447.8200000003 L -10794371.4,3856447.87 L -10794370.69,3856447.85 z\" /><path fill-rule=\"evenodd\" fill=\"#66cc99\" stroke=\"#555555\" stroke-width=\"19.21939199998975\" opacity=\"0.6\" d=\"M -10794430.620000001,3856451.6 L -10794431.52,3856451.0300000003 L -10794429.56,3856452.38 L -10794430.620000001,3856451.6 z\" /><path fill-rule=\"evenodd\" fill=\"#66cc99\" stroke=\"#555555\" stroke-width=\"19.21939199998975\" opacity=\"0.6\" d=\"M -10794342.08,3856455.14 L -10794344.01,3856453.83 L -10794342.84,3856454.63 L -10794342.08,3856455.14 z\" /><path fill-rule=\"evenodd\" fill=\"#66cc99\" stroke=\"#555555\" stroke-width=\"19.21939199998975\" opacity=\"0.6\" d=\"M -10794380.82,3856457.63 L -10794382.040000001,3856457.58 L -10794383.26,3856457.5500000003 L -10794380.82,3856457.63 z\" /><path fill-rule=\"evenodd\" fill=\"#66cc99\" stroke=\"#555555\" stroke-width=\"19.21939199998975\" opacity=\"0.6\" d=\"M -10794315.67,3856456.95 L -10794316.700000001,3856458.81 L -10794316.27,3856458.1 L -10794315.67,3856456.95 z\" /><path fill-rule=\"evenodd\" fill=\"#66cc99\" stroke=\"#555555\" stroke-width=\"19.21939199998975\" opacity=\"0.6\" d=\"M -10794288.43,3856457.8000000003 L -10794289.98,3856459.62 L -10794288.9,3856458.36 L -10794288.43,3856457.8000000003 z\" /><path fill-rule=\"evenodd\" fill=\"#66cc99\" stroke=\"#555555\" stroke-width=\"19.21939199998975\" opacity=\"0.6\" d=\"M -10794288.59,3856461.69 L -10794290.96,3856460.24 L -10794289.69,3856461.0500000003 L -10794288.59,3856461.69 z\" /><path fill-rule=\"evenodd\" fill=\"#66cc99\" stroke=\"#555555\" stroke-width=\"19.21939199998975\" opacity=\"0.6\" d=\"M -10794304.700000001,3856461.2600000002 L -10794304.65,3856460.0300000003 L -10794304.88,3856462.56 L -10794304.700000001,3856461.2600000002 z\" /><path fill-rule=\"evenodd\" fill=\"#66cc99\" stroke=\"#555555\" stroke-width=\"19.21939199998975\" opacity=\"0.6\" d=\"M -10794303.59,3856465.69 L -10794302.74,3856464.5300000003 L -10794304.34,3856466.65 L -10794303.59,3856465.69 z\" /><path fill-rule=\"evenodd\" fill=\"#66cc99\" stroke=\"#555555\" stroke-width=\"19.21939199998975\" opacity=\"0.6\" d=\"M -10794294.200000001,3856466.92 L -10794296.290000001,3856468.2600000002 L -10794295.09,3856467.5300000003 L -10794294.200000001,3856466.92 z\" /><path fill-rule=\"evenodd\" fill=\"#66cc99\" stroke=\"#555555\" stroke-width=\"19.21939199998975\" opacity=\"0.6\" d=\"M -10794250.67,3856468.3000000003 L -10794250.91,3856467.36 L -10794250.4,3856469.84 L -10794250.67,3856468.3000000003 z\" /><path fill-rule=\"evenodd\" fill=\"#66cc99\" stroke=\"#555555\" stroke-width=\"19.21939199998975\" opacity=\"0.6\" d=\"M -10794198.19,3856468.73 L -10794200.35,3856468.64 L -10794199.33,3856468.69 L -10794198.19,3856468.73 z\" /><path fill-rule=\"evenodd\" fill=\"#66cc99\" stroke=\"#555555\" stroke-width=\"19.21939199998975\" opacity=\"0.6\" d=\"M -10794232.78,3856469.84 L -10794233.59,3856468.79 L -10794234.290000001,3856467.89 L -10794232.78,3856469.84 z\" /><path fill-rule=\"evenodd\" fill=\"#66cc99\" stroke=\"#555555\" stroke-width=\"19.21939199998975\" opacity=\"0.6\" d=\"M -10794191.36,3856469.42 L -10794191.74,3856471.72 L -10794191.44,3856470.1 L -10794191.36,3856469.42 z\" /><path fill-rule=\"evenodd\" fill=\"#66cc99\" stroke=\"#555555\" stroke-width=\"19.21939199998975\" opacity=\"0.6\" d=\"M -10794200.26,3856469.83 L -10794201.16,3856471.66 L -10794200.700000001,3856470.73 L -10794200.26,3856469.83 z\" /><path fill-rule=\"evenodd\" fill=\"#66cc99\" stroke=\"#555555\" stroke-width=\"19.21939199998975\" opacity=\"0.6\" d=\"M -10794192.200000001,3856476.92 L -10794193.35,3856476.86 L -10794194.91,3856476.94 L -10794192.200000001,3856476.92 z\" /><path fill-rule=\"evenodd\" fill=\"#66cc99\" stroke=\"#555555\" stroke-width=\"19.21939199998975\" opacity=\"0.6\" d=\"M -10794199.120000001,3856480.04 L -10794200.11,3856479.99 L -10794198.120000001,3856480.11 L -10794199.120000001,3856480.04 z\" /><path fill-rule=\"evenodd\" fill=\"#66cc99\" stroke=\"#555555\" stroke-width=\"19.21939199998975\" opacity=\"0.6\" d=\"M -10794125.23,3856482.39 L -10794126.57,3856480.42 L -10794125.99,3856481.38 L -10794125.23,3856482.39 z\" /><path fill-rule=\"evenodd\" fill=\"#66cc99\" stroke=\"#555555\" stroke-width=\"19.21939199998975\" opacity=\"0.6\" d=\"M -10794094.49,3856482.29 L -10794093.63,3856483.39 L -10794095.03,3856481.5700000003 L -10794094.49,3856482.29 z\" /><path fill-rule=\"evenodd\" fill=\"#66cc99\" stroke=\"#555555\" stroke-width=\"19.21939199998975\" opacity=\"0.6\" d=\"M -10794064.76,3856485.92 L -10794065.83,3856485.86 L -10794063.68,3856485.99 L -10794064.76,3856485.92 z\" /><path fill-rule=\"evenodd\" fill=\"#66cc99\" stroke=\"#555555\" stroke-width=\"19.21939199998975\" opacity=\"0.6\" d=\"M -10794096.46,3856485.61 L -10794096.58,3856488.2800000003 L -10794096.49,3856486.97 L -10794096.46,3856485.61 z\" /><path fill-rule=\"evenodd\" fill=\"#66cc99\" stroke=\"#555555\" stroke-width=\"19.21939199998975\" opacity=\"0.6\" d=\"M -10794081.040000001,3856486.92 L -10794081.07,3856488.2 L -10794080.92,3856485.7 L -10794081.040000001,3856486.92 z\" /><path fill-rule=\"evenodd\" fill=\"#66cc99\" stroke=\"#555555\" stroke-width=\"19.21939199998975\" opacity=\"0.6\" d=\"M -10794126.73,3856487.0 L -10794125.49,3856487.0700000003 L -10794127.96,3856486.93 L -10794126.73,3856487.0 z\" /><path fill-rule=\"evenodd\" fill=\"#66cc99\" stroke=\"#555555\" stroke-width=\"19.21939199998975\" opacity=\"0.6\" d=\"M -10794083.43,3856488.12 L -10794084.6,3856488.1 L -10794082.23,3856488.16 L -10794083.43,3856488.12 z\" /><path fill-rule=\"evenodd\" fill=\"#66cc99\" stroke=\"#555555\" stroke-width=\"19.21939199998975\" opacity=\"0.6\" d=\"M -10794105.370000001,3856489.81 L -10794106.55,3856489.24 L -10794104.35,3856490.33 L -10794105.370000001,3856489.81 z\" /><path fill-rule=\"evenodd\" fill=\"#66cc99\" stroke=\"#555555\" stroke-width=\"19.21939199998975\" opacity=\"0.6\" d=\"M -10794123.39,3856490.2600000002 L -10794126.01,3856490.5100000002 L -10794122.21,3856490.29 L -10794123.39,3856490.2600000002 z\" /><path fill-rule=\"evenodd\" fill=\"#66cc99\" stroke=\"#555555\" stroke-width=\"19.21939199998975\" opacity=\"0.6\" d=\"M -10794042.540000001,3856491.59 L -10794041.64,3856492.04 L -10794043.290000001,3856491.14 L -10794042.540000001,3856491.59 z\" /><path fill-rule=\"evenodd\" fill=\"#66cc99\" stroke=\"#555555\" stroke-width=\"19.21939199998975\" opacity=\"0.6\" d=\"M -10794008.91,3856493.99 L -10794009.290000001,3856492.18 L -10794009.5,3856491.49 L -10794008.91,3856493.99 z\" /><path fill-rule=\"evenodd\" fill=\"#66cc99\" stroke=\"#555555\" stroke-width=\"19.21939199998975\" opacity=\"0.6\" d=\"M -10794088.75,3856493.12 L -10794088.52,3856494.48 L -10794088.84,3856492.2 L -10794088.75,3856493.12 z\" /><path fill-rule=\"evenodd\" fill=\"#66cc99\" stroke=\"#555555\" stroke-width=\"19.21939199998975\" opacity=\"0.6\" d=\"M -10793994.13,3856493.87 L -10793997.03,3856496.2 L -10793995.14,3856494.79 L -10793994.13,3856493.87 z\" /><path fill-rule=\"evenodd\" fill=\"#66cc99\" stroke=\"#555555\" stroke-width=\"19.21939199998975\" opacity=\"0.6\" d=\"M -10793961.74,3856500.54 L -10793960.9,3856501.0300000003 L -10793962.78,3856499.93 L -10793961.74,3856500.54 z\" /><path fill-rule=\"evenodd\" fill=\"#66cc99\" stroke=\"#555555\" stroke-width=\"19.21939199998975\" opacity=\"0.6\" d=\"M -10794022.08,3856502.25 L -10794023.17,3856502.17 L -10794019.5,3856502.84 L -10794022.08,3856502.25 z\" /><path fill-rule=\"evenodd\" fill=\"#66cc99\" stroke=\"#555555\" stroke-width=\"19.21939199998975\" opacity=\"0.6\" d=\"M -10793926.540000001,3856503.5 L -10793927.99,3856501.5300000003 L -10793927.65,3856502.0300000003 L -10793926.540000001,3856503.5 z\" /><path fill-rule=\"evenodd\" fill=\"#66cc99\" stroke=\"#555555\" stroke-width=\"19.21939199998975\" opacity=\"0.6\" d=\"M -10793935.6,3856507.81 L -10793936.69,3856507.74 L -10793937.74,3856507.68 L -10793935.6,3856507.81 z\" /><path fill-rule=\"evenodd\" fill=\"#66cc99\" stroke=\"#555555\" stroke-width=\"19.21939199998975\" opacity=\"0.6\" d=\"M -10793920.11,3856502.0 L -10793920.78,3856502.16 L -10793922.83,3856502.84 L -10793920.11,3856502.0 z\" /><path fill-rule=\"evenodd\" fill=\"#66cc99\" stroke=\"#555555\" stroke-width=\"19.21939199998975\" opacity=\"0.6\" d=\"M -10793892.73,3856506.62 L -10793894.790000001,3856506.5100000002 L -10793893.78,3856506.5700000003 L -10793892.73,3856506.62 z\" /><path fill-rule=\"evenodd\" fill=\"#66cc99\" stroke=\"#555555\" stroke-width=\"19.21939199998975\" opacity=\"0.6\" d=\"M -10793908.05,3856505.89 L -10793908.23,3856506.99 L -10793908.32,3856508.15 L -10793908.05,3856505.89 z\" /><path fill-rule=\"evenodd\" fill=\"#66cc99\" stroke=\"#555555\" stroke-width=\"19.21939199998975\" opacity=\"0.6\" d=\"M -10793911.49,3856508.72 L -10793909.870000001,3856508.77 L -10793912.620000001,3856508.65 L -10793911.49,3856508.72 z\" /><path fill-rule=\"evenodd\" fill=\"#66cc99\" stroke=\"#555555\" stroke-width=\"19.21939199998975\" opacity=\"0.6\" d=\"M -10793904.94,3856510.47 L -10793905.55,3856509.02 L -10793904.57,3856511.73 L -10793904.94,3856510.47 z\" /><path fill-rule=\"evenodd\" fill=\"#66cc99\" stroke=\"#555555\" stroke-width=\"19.21939199998975\" opacity=\"0.6\" d=\"M -10793924.67,3856511.64 L -10793927.23,3856511.5100000002 L -10793926.08,3856511.5700000003 L -10793924.67,3856511.64 z\" /><path fill-rule=\"evenodd\" fill=\"#66cc99\" stroke=\"#555555\" stroke-width=\"19.21939199998975\" opacity=\"0.6\" d=\"M -10793873.28,3856511.49 L -10793872.81,3856512.85 L -10793873.55,3856510.39 L -10793873.28,3856511.49 z\" /><path fill-rule=\"evenodd\" fill=\"#66cc99\" stroke=\"#555555\" stroke-width=\"19.21939199998975\" opacity=\"0.6\" d=\"M -10793871.71,3856512.91 L -10793872.25,3856514.22 L -10793872.56,3856515.31 L -10793871.71,3856512.91 z\" /><path fill-rule=\"evenodd\" fill=\"#66cc99\" stroke=\"#555555\" stroke-width=\"19.21939199998975\" opacity=\"0.6\" d=\"M -10793919.51,3856514.75 L -10793921.64,3856513.8000000003 L -10793919.1,3856514.99 L -10793919.51,3856514.75 z\" /><path fill-rule=\"evenodd\" fill=\"#66cc99\" stroke=\"#555555\" stroke-width=\"19.21939199998975\" opacity=\"0.6\" d=\"M -10793788.02,3856518.38 L -10793789.9,3856518.2600000002 L -10793788.950000001,3856518.33 L -10793788.02,3856518.38 z\" /><path fill-rule=\"evenodd\" fill=\"#66cc99\" stroke=\"#555555\" stroke-width=\"19.21939199998975\" opacity=\"0.6\" d=\"M -10793858.67,3856518.73 L -10793857.48,3856517.5 L -10793859.23,3856519.29 L -10793858.67,3856518.73 z\" /><path fill-rule=\"evenodd\" fill=\"#66cc99\" stroke=\"#555555\" stroke-width=\"19.21939199998975\" opacity=\"0.6\" d=\"M -10793814.92,3856518.12 L -10793816.4,3856519.38 L -10793815.51,3856518.67 L -10793814.92,3856518.12 z\" /><path fill-rule=\"evenodd\" fill=\"#66cc99\" stroke=\"#555555\" stroke-width=\"19.21939199998975\" opacity=\"0.6\" d=\"M -10793825.94,3856518.84 L -10793827.01,3856518.77 L -10793828.07,3856518.71 L -10793825.94,3856518.84 z\" /><path fill-rule=\"evenodd\" fill=\"#66cc99\" stroke=\"#555555\" stroke-width=\"19.21939199998975\" opacity=\"0.6\" d=\"M -10793862.17,3856520.5100000002 L -10793864.33,3856520.39 L -10793863.26,3856520.45 L -10793862.17,3856520.5100000002 z\" /><path fill-rule=\"evenodd\" fill=\"#66cc99\" stroke=\"#555555\" stroke-width=\"19.21939199998975\" opacity=\"0.6\" d=\"M -10793848.59,3856519.92 L -10793849.34,3856520.43 L -10793850.32,3856521.19 L -10793848.59,3856519.92 z\" /><path fill-rule=\"evenodd\" fill=\"#66cc99\" stroke=\"#555555\" stroke-width=\"19.21939199998975\" opacity=\"0.6\" d=\"M -10793861.09,3856520.5700000003 L -10793862.17,3856520.5100000002 L -10793860.02,3856520.63 L -10793861.09,3856520.5700000003 z\" /><path fill-rule=\"evenodd\" fill=\"#66cc99\" stroke=\"#555555\" stroke-width=\"19.21939199998975\" opacity=\"0.6\" d=\"M -10793770.57,3856520.09 L -10793770.82,3856521.3000000003 L -10793771.0,3856522.5 L -10793770.57,3856520.09 z\" /><path fill-rule=\"evenodd\" fill=\"#66cc99\" stroke=\"#555555\" stroke-width=\"19.21939199998975\" opacity=\"0.6\" d=\"M -10793815.040000001,3856523.23 L -10793815.28,3856521.86 L -10793814.85,3856524.33 L -10793815.040000001,3856523.23 z\" /><path fill-rule=\"evenodd\" fill=\"#66cc99\" stroke=\"#555555\" stroke-width=\"19.21939199998975\" opacity=\"0.6\" d=\"M -10793833.93,3856523.2 L -10793832.96,3856523.2600000002 L -10793832.02,3856523.31 L -10793833.93,3856523.2 z\" /><path fill-rule=\"evenodd\" fill=\"#66cc99\" stroke=\"#555555\" stroke-width=\"19.21939199998975\" opacity=\"0.6\" d=\"M -10793789.93,3856523.92 L -10793790.71,3856526.47 L -10793790.22,3856525.08 L -10793789.93,3856523.92 z\" /><path fill-rule=\"evenodd\" fill=\"#66cc99\" stroke=\"#555555\" stroke-width=\"19.21939199998975\" opacity=\"0.6\" d=\"M -10793764.48,3856526.16 L -10793765.53,3856526.09 L -10793766.58,3856526.0300000003 L -10793764.48,3856526.16 z\" /><path fill-rule=\"evenodd\" fill=\"#66cc99\" stroke=\"#555555\" stroke-width=\"19.21939199998975\" opacity=\"0.6\" d=\"M -10793722.700000001,3856529.73 L -10793723.25,3856528.5300000003 L -10793723.85,3856527.2600000002 L -10793722.700000001,3856529.73 z\" /><path fill-rule=\"evenodd\" fill=\"#66cc99\" stroke=\"#555555\" stroke-width=\"19.21939199998975\" opacity=\"0.6\" d=\"M -10793718.03,3856533.0100000002 L -10793720.57,3856533.04 L -10793719.63,3856533.09 L -10793718.03,3856533.0100000002 z\" /><path fill-rule=\"evenodd\" fill=\"#66cc99\" stroke=\"#555555\" stroke-width=\"19.21939199998975\" opacity=\"0.6\" d=\"M -10793728.83,3856533.69 L -10793730.88,3856532.44 L -10793729.99,3856533.0500000003 L -10793728.83,3856533.69 z\" /><path fill-rule=\"evenodd\" fill=\"#66cc99\" stroke=\"#555555\" stroke-width=\"19.21939199998975\" opacity=\"0.6\" d=\"M -10793722.77,3856534.04 L -10793723.48,3856533.44 L -10793724.3,3856532.83 L -10793722.77,3856534.04 z\" /><path fill-rule=\"evenodd\" fill=\"#66cc99\" stroke=\"#555555\" stroke-width=\"19.21939199998975\" opacity=\"0.6\" d=\"M -10793674.540000001,3856533.5300000003 L -10793675.41,3856534.35 L -10793673.43,3856532.62 L -10793674.540000001,3856533.5300000003 z\" /><path fill-rule=\"evenodd\" fill=\"#66cc99\" stroke=\"#555555\" stroke-width=\"19.21939199998975\" opacity=\"0.6\" d=\"M -10793676.34,3856533.77 L -10793678.03,3856532.97 L -10793675.41,3856534.35 L -10793676.34,3856533.77 z\" /><path fill-rule=\"evenodd\" fill=\"#66cc99\" stroke=\"#555555\" stroke-width=\"19.21939199998975\" opacity=\"0.6\" d=\"M -10793713.85,3856536.54 L -10793712.700000001,3856537.04 L -10793715.02,3856535.86 L -10793713.85,3856536.54 z\" /><path fill-rule=\"evenodd\" fill=\"#66cc99\" stroke=\"#555555\" stroke-width=\"19.21939199998975\" opacity=\"0.6\" d=\"M -10793715.48,3856537.09 L -10793715.83,3856538.2 L -10793715.02,3856535.86 L -10793715.48,3856537.09 z\" /><path fill-rule=\"evenodd\" fill=\"#66cc99\" stroke=\"#555555\" stroke-width=\"19.21939199998975\" opacity=\"0.6\" d=\"M -10793632.46,3856537.45 L -10793633.790000001,3856536.23 L -10793631.73,3856538.25 L -10793632.46,3856537.45 z\" /><path fill-rule=\"evenodd\" fill=\"#66cc99\" stroke=\"#555555\" stroke-width=\"19.21939199998975\" opacity=\"0.6\" d=\"M -10793685.89,3856538.14 L -10793686.1,3856539.3200000003 L -10793685.66,3856536.93 L -10793685.89,3856538.14 z\" /><path fill-rule=\"evenodd\" fill=\"#66cc99\" stroke=\"#555555\" stroke-width=\"19.21939199998975\" opacity=\"0.6\" d=\"M -10793683.28,3856539.48 L -10793682.34,3856539.5300000003 L -10793680.46,3856539.65 L -10793681.4,3856539.58 L -10793683.28,3856539.48 z\" /><path fill-rule=\"evenodd\" fill=\"#66cc99\" stroke=\"#555555\" stroke-width=\"19.21939199998975\" opacity=\"0.6\" d=\"M -10793634.370000001,3856539.13 L -10793636.75,3856540.44 L -10793635.59,3856539.87 L -10793634.370000001,3856539.13 z\" /><path fill-rule=\"evenodd\" fill=\"#66cc99\" stroke=\"#555555\" stroke-width=\"19.21939199998975\" opacity=\"0.6\" d=\"M -10793622.59,3856540.63 L -10793621.68,3856540.68 L -10793624.450000001,3856540.52 L -10793622.59,3856540.63 z\" /><path fill-rule=\"evenodd\" fill=\"#66cc99\" stroke=\"#555555\" stroke-width=\"19.21939199998975\" opacity=\"0.6\" d=\"M -10793650.09,3856542.83 L -10793650.200000001,3856541.41 L -10793650.09,3856544.34 L -10793650.09,3856542.83 z\" /><path fill-rule=\"evenodd\" fill=\"#66cc99\" stroke=\"#555555\" stroke-width=\"19.21939199998975\" opacity=\"0.6\" d=\"M -10793591.08,3856545.86 L -10793591.4,3856543.08 L -10793591.290000001,3856544.37 L -10793591.08,3856545.86 z\" /><path fill-rule=\"evenodd\" fill=\"#66cc99\" stroke=\"#555555\" stroke-width=\"19.21939199998975\" opacity=\"0.6\" d=\"M -10793568.84,3856544.4 L -10793570.5,3856545.59 L -10793569.43,3856544.84 L -10793568.84,3856544.4 z\" /><path fill-rule=\"evenodd\" fill=\"#66cc99\" stroke=\"#555555\" stroke-width=\"19.21939199998975\" opacity=\"0.6\" d=\"M -10793628.1,3856547.02 L -10793627.97,3856545.6 L -10793628.24,3856548.29 L -10793628.1,3856547.02 z\" /><path fill-rule=\"evenodd\" fill=\"#66cc99\" stroke=\"#555555\" stroke-width=\"19.21939199998975\" opacity=\"0.6\" d=\"M -10793577.8,3856547.08 L -10793579.17,3856546.5300000003 L -10793576.77,3856547.64 L -10793577.8,3856547.08 z\" /><path fill-rule=\"evenodd\" fill=\"#66cc99\" stroke=\"#555555\" stroke-width=\"19.21939199998975\" opacity=\"0.6\" d=\"M -10793541.5,3856549.2 L -10793540.86,3856548.25 L -10793542.16,3856550.1 L -10793541.5,3856549.2 z\" /><path fill-rule=\"evenodd\" fill=\"#66cc99\" stroke=\"#555555\" stroke-width=\"19.21939199998975\" opacity=\"0.6\" d=\"M -10793587.88,3856551.17 L -10793588.82,3856551.12 L -10793589.74,3856551.08 L -10793587.88,3856551.17 z\" /><path fill-rule=\"evenodd\" fill=\"#66cc99\" stroke=\"#555555\" stroke-width=\"19.21939199998975\" opacity=\"0.6\" d=\"M -10793520.14,3856551.37 L -10793521.05,3856551.31 L -10793522.89,3856551.21 L -10793520.14,3856551.37 z\" /><path fill-rule=\"evenodd\" fill=\"#66cc99\" stroke=\"#555555\" stroke-width=\"19.21939199998975\" opacity=\"0.6\" d=\"M -10793522.89,3856551.21 L -10793524.02,3856553.34 L -10793523.52,3856552.54 L -10793522.89,3856551.21 z\" /><path fill-rule=\"evenodd\" fill=\"#66cc99\" stroke=\"#555555\" stroke-width=\"19.21939199998975\" opacity=\"0.6\" d=\"M -10793557.53,3856551.44 L -10793558.07,3856552.38 L -10793558.790000001,3856553.7 L -10793557.53,3856551.44 z\" /><path fill-rule=\"evenodd\" fill=\"#66cc99\" stroke=\"#555555\" stroke-width=\"19.21939199998975\" opacity=\"0.6\" d=\"M -10793588.65,3856553.39 L -10793587.450000001,3856552.54 L -10793589.200000001,3856553.77 L -10793588.65,3856553.39 z\" /><path fill-rule=\"evenodd\" fill=\"#66cc99\" stroke=\"#555555\" stroke-width=\"19.21939199998975\" opacity=\"0.6\" d=\"M -10793590.14,3856553.7 L -10793591.08,3856553.65 L -10793589.200000001,3856553.77 L -10793590.14,3856553.7 z\" /><path fill-rule=\"evenodd\" fill=\"#66cc99\" stroke=\"#555555\" stroke-width=\"19.21939199998975\" opacity=\"0.6\" d=\"M -10793511.31,3856556.47 L -10793513.27,3856556.35 L -10793512.31,3856556.41 L -10793511.31,3856556.47 z\" /><path fill-rule=\"evenodd\" fill=\"#66cc99\" stroke=\"#555555\" stroke-width=\"19.21939199998975\" opacity=\"0.6\" d=\"M -10793479.51,3856563.93 L -10793480.74,3856563.25 L -10793482.0,3856562.75 L -10793479.51,3856563.93 z\" /><path fill-rule=\"evenodd\" fill=\"#66cc99\" stroke=\"#555555\" stroke-width=\"19.21939199998975\" opacity=\"0.6\" d=\"M -10793480.59,3856557.77 L -10793480.92,3856560.08 L -10793480.700000001,3856558.73 L -10793480.59,3856557.77 z\" /><path fill-rule=\"evenodd\" fill=\"#66cc99\" stroke=\"#555555\" stroke-width=\"19.21939199998975\" opacity=\"0.6\" d=\"M -10793437.06,3856560.8000000003 L -10793438.08,3856560.73 L -10793439.09,3856560.68 L -10793437.06,3856560.8000000003 z\" /><path fill-rule=\"evenodd\" fill=\"#66cc99\" stroke=\"#555555\" stroke-width=\"19.21939199998975\" opacity=\"0.6\" d=\"M -10793464.09,3856562.02 L -10793465.01,3856561.97 L -10793463.15,3856562.08 L -10793464.09,3856562.02 z\" /><path fill-rule=\"evenodd\" fill=\"#66cc99\" stroke=\"#555555\" stroke-width=\"19.21939199998975\" opacity=\"0.6\" d=\"M -10793455.1,3856564.2800000003 L -10793456.040000001,3856564.23 L -10793454.16,3856564.34 L -10793455.1,3856564.2800000003 z\" /><path fill-rule=\"evenodd\" fill=\"#66cc99\" stroke=\"#555555\" stroke-width=\"19.21939199998975\" opacity=\"0.6\" d=\"M -10793430.07,3856564.97 L -10793431.53,3856565.63 L -10793428.84,3856564.48 L -10793430.07,3856564.97 z\" /><path fill-rule=\"evenodd\" fill=\"#66cc99\" stroke=\"#555555\" stroke-width=\"19.21939199998975\" opacity=\"0.6\" d=\"M -10793420.78,3856568.27 L -10793421.74,3856568.22 L -10793422.71,3856568.18 L -10793420.78,3856568.27 z\" /><path fill-rule=\"evenodd\" fill=\"#66cc99\" stroke=\"#555555\" stroke-width=\"19.21939199998975\" opacity=\"0.6\" d=\"M -10793368.68,3856568.91 L -10793370.040000001,3856567.79 L -10793369.72,3856568.06 L -10793368.68,3856568.91 z\" /><path fill-rule=\"evenodd\" fill=\"#66cc99\" stroke=\"#555555\" stroke-width=\"19.21939199998975\" opacity=\"0.6\" d=\"M -10793448.120000001,3856570.74 L -10793447.11,3856570.8000000003 L -10793449.13,3856570.68 L -10793448.120000001,3856570.74 z\" /><path fill-rule=\"evenodd\" fill=\"#66cc99\" stroke=\"#555555\" stroke-width=\"19.21939199998975\" opacity=\"0.6\" d=\"M -10793375.38,3856571.12 L -10793376.88,3856572.5500000003 L -10793375.98,3856571.75 L -10793375.38,3856571.12 z\" /><path fill-rule=\"evenodd\" fill=\"#66cc99\" stroke=\"#555555\" stroke-width=\"19.21939199998975\" opacity=\"0.6\" d=\"M -10793374.46,3856573.0100000002 L -10793375.98,3856571.75 L -10793375.26,3856572.4 L -10793374.46,3856573.0100000002 z\" /><path fill-rule=\"evenodd\" fill=\"#66cc99\" stroke=\"#555555\" stroke-width=\"19.21939199998975\" opacity=\"0.6\" d=\"M -10793393.450000001,3856573.09 L -10793395.17,3856574.41 L -10793394.23,3856573.7600000002 L -10793393.450000001,3856573.09 z\" /><path fill-rule=\"evenodd\" fill=\"#66cc99\" stroke=\"#555555\" stroke-width=\"19.21939199998975\" opacity=\"0.6\" d=\"M -10793420.86,3856574.0700000003 L -10793421.57,3856574.12 L -10793418.76,3856574.19 L -10793420.86,3856574.0700000003 z\" /><path fill-rule=\"evenodd\" fill=\"#66cc99\" stroke=\"#555555\" stroke-width=\"19.21939199998975\" opacity=\"0.6\" d=\"M -10793408.34,3856575.04 L -10793408.77,3856573.62 L -10793408.25,3856575.48 L -10793408.34,3856575.04 z\" /><path fill-rule=\"evenodd\" fill=\"#66cc99\" stroke=\"#555555\" stroke-width=\"19.21939199998975\" opacity=\"0.6\" d=\"M -10793398.89,3856576.02 L -10793399.38,3856573.49 L -10793399.16,3856574.95 L -10793398.89,3856576.02 z\" /><path fill-rule=\"evenodd\" fill=\"#66cc99\" stroke=\"#555555\" stroke-width=\"19.21939199998975\" opacity=\"0.6\" d=\"M -10793333.26,3856574.72 L -10793331.11,3856574.84 L -10793332.18,3856574.7800000003 L -10793333.26,3856574.72 z\" /><path fill-rule=\"evenodd\" fill=\"#66cc99\" stroke=\"#555555\" stroke-width=\"19.21939199998975\" opacity=\"0.6\" d=\"M -10793357.19,3856578.74 L -10793355.81,3856578.5100000002 L -10793358.120000001,3856578.79 L -10793357.19,3856578.74 z\" /><path fill-rule=\"evenodd\" fill=\"#66cc99\" stroke=\"#555555\" stroke-width=\"19.21939199998975\" opacity=\"0.6\" d=\"M -10793311.950000001,3856580.2 L -10793310.76,3856580.2600000002 L -10793313.13,3856580.13 L -10793311.950000001,3856580.2 z\" /><path fill-rule=\"evenodd\" fill=\"#66cc99\" stroke=\"#555555\" stroke-width=\"19.21939199998975\" opacity=\"0.6\" d=\"M -10793249.42,3856581.56 L -10793252.77,3856581.72 L -10793251.57,3856581.77 L -10793249.42,3856581.56 z\" /><path fill-rule=\"evenodd\" fill=\"#66cc99\" stroke=\"#555555\" stroke-width=\"19.21939199998975\" opacity=\"0.6\" d=\"M -10793326.450000001,3856585.0 L -10793327.620000001,3856584.93 L -10793328.790000001,3856584.87 L -10793326.450000001,3856585.0 z\" /><path fill-rule=\"evenodd\" fill=\"#66cc99\" stroke=\"#555555\" stroke-width=\"19.21939199998975\" opacity=\"0.6\" d=\"M -10793263.6,3856587.5700000003 L -10793262.32,3856588.08 L -10793264.620000001,3856587.1 L -10793263.6,3856587.5700000003 z\" /><path fill-rule=\"evenodd\" fill=\"#66cc99\" stroke=\"#555555\" stroke-width=\"19.21939199998975\" opacity=\"0.6\" d=\"M -10793244.93,3856587.79 L -10793246.16,3856587.87 L -10793247.370000001,3856587.97 L -10793244.93,3856587.79 z\" /><path fill-rule=\"evenodd\" fill=\"#66cc99\" stroke=\"#555555\" stroke-width=\"19.21939199998975\" opacity=\"0.6\" d=\"M -10793300.25,3856588.2800000003 L -10793302.19,3856588.36 L -10793299.06,3856588.35 L -10793300.25,3856588.2800000003 z\" /><path fill-rule=\"evenodd\" fill=\"#66cc99\" stroke=\"#555555\" stroke-width=\"19.21939199998975\" opacity=\"0.6\" d=\"M -10793207.290000001,3856587.48 L -10793207.6,3856588.69 L -10793207.75,3856589.74 L -10793207.290000001,3856587.48 z\" /><path fill-rule=\"evenodd\" fill=\"#66cc99\" stroke=\"#555555\" stroke-width=\"19.21939199998975\" opacity=\"0.6\" d=\"M -10793197.8,3856590.0700000003 L -10793199.15,3856589.93 L -10793200.39,3856589.86 L -10793197.8,3856590.0700000003 z\" /><path fill-rule=\"evenodd\" fill=\"#66cc99\" stroke=\"#555555\" stroke-width=\"19.21939199998975\" opacity=\"0.6\" d=\"M -10793129.0,3856597.1 L -10793130.72,3856596.27 L -10793130.23,3856596.54 L -10793129.0,3856597.1 z\" /><path fill-rule=\"evenodd\" fill=\"#66cc99\" stroke=\"#555555\" stroke-width=\"19.21939199998975\" opacity=\"0.6\" d=\"M -10792929.48,3856597.95 L -10792930.66,3856599.73 L -10792930.03,3856598.7800000003 L -10792929.48,3856597.95 z\" /><path fill-rule=\"evenodd\" fill=\"#66cc99\" stroke=\"#555555\" stroke-width=\"19.21939199998975\" opacity=\"0.6\" d=\"M -10792934.77,3856599.44 L -10792936.53,3856600.87 L -10792935.26,3856599.9 L -10792934.77,3856599.44 z\" /><path fill-rule=\"evenodd\" fill=\"#66cc99\" stroke=\"#555555\" stroke-width=\"19.21939199998975\" opacity=\"0.6\" d=\"M -10793178.17,3856600.71 L -10793180.71,3856600.56 L -10793179.44,3856600.64 L -10793178.17,3856600.71 z\" /><path fill-rule=\"evenodd\" fill=\"#66cc99\" stroke=\"#555555\" stroke-width=\"19.21939199998975\" opacity=\"0.6\" d=\"M -10793091.75,3856603.5700000003 L -10793092.59,3856604.43 L -10793091.06,3856602.94 L -10793091.75,3856603.5700000003 z\" /><path fill-rule=\"evenodd\" fill=\"#66cc99\" stroke=\"#555555\" stroke-width=\"19.21939199998975\" opacity=\"0.6\" d=\"M -10792932.41,3856605.38 L -10792932.21,3856602.99 L -10792932.38,3856604.27 L -10792932.41,3856605.38 z\" /><path fill-rule=\"evenodd\" fill=\"#66cc99\" stroke=\"#555555\" stroke-width=\"19.21939199998975\" opacity=\"0.6\" d=\"M -10792972.0,3856604.75 L -10792974.27,3856605.67 L -10792973.02,3856605.24 L -10792972.0,3856604.75 z\" /><path fill-rule=\"evenodd\" fill=\"#66cc99\" stroke=\"#555555\" stroke-width=\"19.21939199998975\" opacity=\"0.6\" d=\"M -10793115.94,3856605.5300000003 L -10793115.63,3856606.56 L -10793116.21,3856604.15 L -10793115.94,3856605.5300000003 z\" /><path fill-rule=\"evenodd\" fill=\"#66cc99\" stroke=\"#555555\" stroke-width=\"19.21939199998975\" opacity=\"0.6\" d=\"M -10793146.84,3856605.69 L -10793147.91,3856605.63 L -10793145.78,3856605.75 L -10793146.84,3856605.69 z\" /><path fill-rule=\"evenodd\" fill=\"#66cc99\" stroke=\"#555555\" stroke-width=\"19.21939199998975\" opacity=\"0.6\" d=\"M -10793061.53,3856606.95 L -10793064.02,3856607.13 L -10793062.77,3856607.0500000003 L -10793061.53,3856606.95 z\" /><path fill-rule=\"evenodd\" fill=\"#66cc99\" stroke=\"#555555\" stroke-width=\"19.21939199998975\" opacity=\"0.6\" d=\"M -10793099.83,3856607.35 L -10793100.700000001,3856606.9 L -10793098.57,3856608.06 L -10793099.83,3856607.35 z\" /><path fill-rule=\"evenodd\" fill=\"#66cc99\" stroke=\"#555555\" stroke-width=\"19.21939199998975\" opacity=\"0.6\" d=\"M -10793068.05,3856609.2 L -10793069.450000001,3856608.69 L -10793066.77,3856609.87 L -10793068.05,3856609.2 z\" /><path fill-rule=\"evenodd\" fill=\"#66cc99\" stroke=\"#555555\" stroke-width=\"19.21939199998975\" opacity=\"0.6\" d=\"M -10793088.950000001,3856610.3000000003 L -10793091.83,3856608.7800000003 L -10793091.03,3856609.22 L -10793088.950000001,3856610.3000000003 z\" /><path fill-rule=\"evenodd\" fill=\"#66cc99\" stroke=\"#555555\" stroke-width=\"19.21939199998975\" opacity=\"0.6\" d=\"M -10792943.98,3856609.92 L -10792943.5,3856609.1 L -10792944.790000001,3856611.11 L -10792943.98,3856609.92 z\" /><path fill-rule=\"evenodd\" fill=\"#66cc99\" stroke=\"#555555\" stroke-width=\"19.21939199998975\" opacity=\"0.6\" d=\"M -10792981.290000001,3856610.21 L -10792982.55,3856610.29 L -10792983.78,3856610.37 L -10792981.290000001,3856610.21 z\" /><path fill-rule=\"evenodd\" fill=\"#66cc99\" stroke=\"#555555\" stroke-width=\"19.21939199998975\" opacity=\"0.6\" d=\"M -10793090.22,3856610.38 L -10793091.51,3856610.47 L -10793088.950000001,3856610.3000000003 L -10793090.22,3856610.38 z\" /><path fill-rule=\"evenodd\" fill=\"#66cc99\" stroke=\"#555555\" stroke-width=\"19.21939199998975\" opacity=\"0.6\" d=\"M -10792995.3,3856611.67 L -10792995.09,3856610.56 L -10792995.64,3856612.8000000003 L -10792995.3,3856611.67 z\" /><path fill-rule=\"evenodd\" fill=\"#66cc99\" stroke=\"#555555\" stroke-width=\"19.21939199998975\" opacity=\"0.6\" d=\"M -10793023.790000001,3856613.2 L -10793025.27,3856612.84 L -10793026.51,3856612.61 L -10793023.790000001,3856613.2 z\" /><path fill-rule=\"evenodd\" fill=\"#66cc99\" stroke=\"#555555\" stroke-width=\"19.21939199998975\" opacity=\"0.6\" d=\"M -10792990.86,3856615.14 L -10792991.38,3856614.17 L -10792990.44,3856616.0100000002 L -10792990.86,3856615.14 z\" /><path fill-rule=\"evenodd\" fill=\"#66cc99\" stroke=\"#555555\" stroke-width=\"19.21939199998975\" opacity=\"0.6\" d=\"M -10792995.15,3856617.9 L -10792996.370000001,3856616.91 L -10792997.68,3856615.92 L -10792995.15,3856617.9 z\" /></g></g></svg>"
      ],
      "text/plain": [
       "<shapely.geometry.multipolygon.MultiPolygon at 0x29d84b1a3a0>"
      ]
     },
     "execution_count": 45,
     "metadata": {},
     "output_type": "execute_result"
    }
   ],
   "source": [
    "shp_polygon_01"
   ]
  },
  {
   "cell_type": "code",
   "execution_count": null,
   "id": "3aa5e322",
   "metadata": {},
   "outputs": [],
   "source": []
  }
 ],
 "metadata": {
  "kernelspec": {
   "display_name": "Python 3 (ipykernel)",
   "language": "python",
   "name": "python3"
  },
  "language_info": {
   "codemirror_mode": {
    "name": "ipython",
    "version": 3
   },
   "file_extension": ".py",
   "mimetype": "text/x-python",
   "name": "python",
   "nbconvert_exporter": "python",
   "pygments_lexer": "ipython3",
   "version": "3.8.12"
  }
 },
 "nbformat": 4,
 "nbformat_minor": 5
}
